{
  "cells": [
    {
      "cell_type": "markdown",
      "metadata": {},
      "source": [
        "# **Top Spotify Songs in 73 Countries - A complete EDA**\n",
        "---\n",
        "**Contributors:**\\\n",
        "Following members have contributed in the development of this notebook.\n",
        "1. Hassan Absar Qaimkhani\n",
        "2. Muhammad Ahsan Rabbi\n",
        "3. Muhammad Sheraz Aamir\n",
        "4. Muhammad Haseeb Abbasi\n",
        "5. Abdul Muid\n",
        "6. Muhammad Saqib\n",
        "---\n"
      ]
    },
    {
      "cell_type": "markdown",
      "metadata": {},
      "source": [
        "**Date:** 28-10-2023\n",
        "---"
      ]
    },
    {
      "cell_type": "markdown",
      "metadata": {},
      "source": [
        "## **DATA SET:**\n",
        "This data is collected from [kaggle.com](www.kaggle.com) and can be accessed from [here](https://www.kaggle.com/datasets/asaniczka/top-spotify-songs-in-73-countries-daily-updated).\\\n",
        "(**Note:** Since this data is updated on daily basis, it might be possible that data you find through this link is more recent and updated then the one used in this notebook. Therefore, link of the dataset used in this notebook can be accessed through this Google Drive [Link](https://drive.google.com/uc?id=1NASMtgbdCspPvjUPWAa-24z0qgQYYT7l).)\n",
        "### Author/Collaborator of Dataset: asaniczka ([kaggle account](https://www.kaggle.com/asaniczka))\n",
        "---\n",
        "\n",
        "### **General Information:**\n",
        "This dataset contains the Daily top 50 songs on Spotify for each country. The data is updated daily and includes various features such as song duration, artist details, album information, and song popularity.\n",
        "The dataset is divided into 40172 rows and 25 columns. Some main features of each column are as follows:\n",
        "1. `spotify_id`: It shows the unique idntifer for the song in the Spotify database.\n",
        "2. `name`: It shows the title of the song.\n",
        "3. `artists`: It shows the name(s) of the artist(s) asociated with he song. \n",
        "4. `daily_rank`: It shows the daily rank of the song amount the top 50 songs for this country.\n",
        "5. `daily_movement`: It shows the change in rankings compared to the previous day for the same country.\n",
        "6. `weekly_movement`: It shows the change in rankings compared to the previous week for the same country.\n",
        "7. `country`: It shows the ISO Code of the country. (If NULL,  then the playlist is 'Global'. Since Global doesn't have an ISO code, it is not put here.)\n",
        "8. `snapshot_date`: It shows the date onwhich the data was colleted from the Spotify API.\n",
        "9. `popularity`: It is a measure of the song's current popularity on Spotify.\n",
        "10. `is_explict`: It indicates whether the songcontains explicit lyrics.\n",
        "11. `duration_ms`: It gives the duration of the song in milliseconds.\n",
        "12. `album_name`: It gives the title of the album the song belongs to.\n",
        "13. `album_release_date`: It gives the release date of the album the song belongs to.\n",
        "14. `danceability`: It is a measure of how suitable the song is for dancing based on various musical elements.\n",
        "15. `energy`: measure of the intensity and activity level of the song.\n",
        "16. `key`: It highlights the key of the song.\n",
        "17. `loudness`: It gives the overall loudness of the song in decibels.\n",
        "18. `mode`: It indicates whether the song is in a major or minor key.\n",
        "19. `speechiness`: It is a measure of the presence ofspoken words inthe song.\n",
        "20. `acoustiness`: It is a measure of the acoustic quality of the song.\n",
        "21. `instrumentalness`: It is a measure of the likelihood that the song does not contain vocals.\n",
        "22. `liveness`: It is a measure of the prsence of a live audience in the recording.\n",
        "23. `valence`: It is a measure of the musical positiveness conveyed by the song.\n",
        "24. `tempo`: It gives the tempo of the song in beats per minute.\n",
        "25. `time_signature`: It indicates the estimated overall time signature of the song.\n",
        "---\n",
        "### **Provenance**:\n",
        "#### Source: \n",
        "Data was collected via the Spotify API.\n",
        "#### COLLECTION METHODOLOGY:\n",
        "Data is collected daily by querying the Spotify API for the top 50 songs for each country every day.\n",
        "\n",
        "---\n",
        "### **License:**\n",
        "License information about the dataset can be accessed from [ODC Attribution License (ODC-By)](https://opendatacommons.org/licenses/by/1-0/index.html)\n",
        "\n",
        "---\n"
      ]
    },
    {
      "cell_type": "markdown",
      "metadata": {
        "id": "IXvTs1AzBUdX"
      },
      "source": [
        "## Importing Important Liabraries\n",
        "Before starting the EDA analysis, important libraries are imported."
      ]
    },
    {
      "cell_type": "code",
      "execution_count": 2,
      "metadata": {
        "id": "dwYaKtPjBUdb"
      },
      "outputs": [],
      "source": [
        "# importing all liabraries that we will use in this EDA exercise.\n",
        "import pandas as pd\n",
        "import numpy as np\n",
        "import matplotlib.pyplot as plt\n",
        "import seaborn as sns"
      ]
    },
    {
      "cell_type": "markdown",
      "metadata": {
        "id": "Al6onOFLBUdc"
      },
      "source": [
        "## Settings\n",
        "Here are some important notebook settings that is used to assist at subsequent stages."
      ]
    },
    {
      "cell_type": "code",
      "execution_count": 3,
      "metadata": {
        "id": "JIe7TLhRBUdd"
      },
      "outputs": [],
      "source": [
        "# Since data can contain numberical values to be formated with thousands separators and decimals, the number formats are defined here\n",
        "# nf0 is number format with zero decimals and nf2 is number format with two decimals\n",
        "nf0 = lambda x: f'{x:,.0f}' if isinstance(x, (int, float)) else x\n",
        "nf2 = lambda x: f'{x:,.2f}' if isinstance(x, (int, float)) else x"
      ]
    },
    {
      "cell_type": "code",
      "execution_count": 4,
      "metadata": {
        "id": "ThPAxTLvBUdd"
      },
      "outputs": [],
      "source": [
        "# setting options to show maximum of row and columns\n",
        "pd.set_option('display.max_columns', None)\n",
        "pd.set_option('display.max_rows', None)"
      ]
    },
    {
      "cell_type": "code",
      "execution_count": 5,
      "metadata": {
        "id": "MqSso1kHBUde"
      },
      "outputs": [],
      "source": [
        "# disabling Warnings\n",
        "import warnings\n",
        "warnings.simplefilter(action='ignore')"
      ]
    },
    {
      "cell_type": "markdown",
      "metadata": {
        "id": "oLgUY0KnBUde"
      },
      "source": [
        "## Importing Dataset"
      ]
    },
    {
      "cell_type": "code",
      "execution_count": 6,
      "metadata": {
        "colab": {
          "base_uri": "https://localhost:8080/"
        },
        "id": "GOMt0hmoFBQl",
        "outputId": "27683845-99a1-4f4f-90b6-15c9ed0ebbdf"
      },
      "outputs": [],
      "source": [
        "# #\n",
        "\n",
        "# !pip install gdown\n",
        "\n",
        "# import gdown\n",
        "\n",
        "# # Replace the link with your sharing link and specify the destination path\n",
        "# gdrive_file_url = \"https://drive.google.com/uc?id=1NASMtgbdCspPvjUPWAa-24z0qgQYYT7l\"\n",
        "# output_path = \"/content/05_universal_top_spotify_songs.csv\"  # You can specify your desired output path\n",
        "\n",
        "# # Download the file\n",
        "# gdown.download(gdrive_file_url, output_path, quiet=False)\n"
      ]
    },
    {
      "cell_type": "code",
      "execution_count": 7,
      "metadata": {
        "colab": {
          "base_uri": "https://localhost:8080/",
          "height": 338
        },
        "id": "KZyxgaGnBUdf",
        "outputId": "24a47ce3-a170-4e0c-c38e-7ac31903f0f8"
      },
      "outputs": [],
      "source": [
        "# importing dataset into df\n",
        "df = pd.read_csv('./spotifyzip/universal_top_spotify_songs.csv')"
      ]
    },
    {
      "cell_type": "markdown",
      "metadata": {
        "id": "hdLe1GjsBUdf"
      },
      "source": [
        "## Data Overview"
      ]
    },
    {
      "cell_type": "code",
      "execution_count": 8,
      "metadata": {
        "id": "tT6cbfVNBUdg"
      },
      "outputs": [
        {
          "name": "stdout",
          "output_type": "stream",
          "text": [
            "Rows= 40172\n",
            "Columns= 25\n",
            "Size= 1004300\n"
          ]
        }
      ],
      "source": [
        "# no of rows, columns, and cells in the data\n",
        "print(\"Rows=\",len(df))\n",
        "print(\"Columns=\",len(df.columns))\n",
        "print(\"Size=\",df.size)"
      ]
    },
    {
      "cell_type": "code",
      "execution_count": 9,
      "metadata": {
        "id": "nocjYBVMBUdg"
      },
      "outputs": [
        {
          "name": "stdout",
          "output_type": "stream",
          "text": [
            "<class 'pandas.core.frame.DataFrame'>\n",
            "RangeIndex: 40172 entries, 0 to 40171\n",
            "Data columns (total 25 columns):\n",
            " #   Column              Non-Null Count  Dtype  \n",
            "---  ------              --------------  -----  \n",
            " 0   spotify_id          40172 non-null  object \n",
            " 1   name                40171 non-null  object \n",
            " 2   artists             40171 non-null  object \n",
            " 3   daily_rank          40172 non-null  int64  \n",
            " 4   daily_movement      40172 non-null  int64  \n",
            " 5   weekly_movement     40172 non-null  int64  \n",
            " 6   country             39620 non-null  object \n",
            " 7   snapshot_date       40172 non-null  object \n",
            " 8   popularity          40172 non-null  int64  \n",
            " 9   is_explicit         40172 non-null  bool   \n",
            " 10  duration_ms         40172 non-null  int64  \n",
            " 11  album_name          40171 non-null  object \n",
            " 12  album_release_date  40171 non-null  object \n",
            " 13  danceability        40172 non-null  float64\n",
            " 14  energy              40172 non-null  float64\n",
            " 15  key                 40172 non-null  int64  \n",
            " 16  loudness            40172 non-null  float64\n",
            " 17  mode                40172 non-null  int64  \n",
            " 18  speechiness         40172 non-null  float64\n",
            " 19  acousticness        40172 non-null  float64\n",
            " 20  instrumentalness    40172 non-null  float64\n",
            " 21  liveness            40172 non-null  float64\n",
            " 22  valence             40172 non-null  float64\n",
            " 23  tempo               40172 non-null  float64\n",
            " 24  time_signature      40172 non-null  int64  \n",
            "dtypes: bool(1), float64(9), int64(8), object(7)\n",
            "memory usage: 7.4+ MB\n"
          ]
        }
      ],
      "source": [
        "df.info()"
      ]
    },
    {
      "cell_type": "markdown",
      "metadata": {
        "id": "q5u-5sZ_BUdh"
      },
      "source": [
        "## Checking Null Values"
      ]
    },
    {
      "cell_type": "code",
      "execution_count": 10,
      "metadata": {
        "id": "erxZoFYABUdh"
      },
      "outputs": [
        {
          "name": "stdout",
          "output_type": "stream",
          "text": [
            "                    Null Count Percentage\n",
            "name                         1       0.00\n",
            "artists                      1       0.00\n",
            "country                    552       1.37\n",
            "album_name                   1       0.00\n",
            "album_release_date           1       0.00\n"
          ]
        }
      ],
      "source": [
        "# checking columns where Null values exists\n",
        "null_count=df.isnull().sum()\n",
        "null_percent=df.isnull().sum()*100/len(df)\n",
        "df_a=pd.concat([null_count, null_percent.map(nf2)], axis=1)\n",
        "# naming columns\n",
        "df_a.columns = ['Null Count', 'Percentage']\n",
        "df_a=df_a[df_a['Null Count']>0]\n",
        "print(df_a)"
      ]
    },
    {
      "cell_type": "markdown",
      "metadata": {
        "id": "cHgpMwaCBUdh"
      },
      "source": [
        "## Checking Duplicate Values"
      ]
    },
    {
      "cell_type": "code",
      "execution_count": 11,
      "metadata": {
        "id": "2UhPonfCBUdi"
      },
      "outputs": [
        {
          "data": {
            "text/plain": [
              "False    40172\n",
              "Name: count, dtype: int64"
            ]
          },
          "execution_count": 11,
          "metadata": {},
          "output_type": "execute_result"
        }
      ],
      "source": [
        "# checking duplicate rows\n",
        "df.duplicated().value_counts()"
      ]
    },
    {
      "cell_type": "markdown",
      "metadata": {
        "id": "nMLyEy2HBUdi"
      },
      "source": [
        "## Checking Vital Statistics"
      ]
    },
    {
      "cell_type": "code",
      "execution_count": 12,
      "metadata": {
        "id": "XR1kLJvbBUdj"
      },
      "outputs": [
        {
          "data": {
            "text/html": [
              "<div>\n",
              "<style scoped>\n",
              "    .dataframe tbody tr th:only-of-type {\n",
              "        vertical-align: middle;\n",
              "    }\n",
              "\n",
              "    .dataframe tbody tr th {\n",
              "        vertical-align: top;\n",
              "    }\n",
              "\n",
              "    .dataframe thead th {\n",
              "        text-align: right;\n",
              "    }\n",
              "</style>\n",
              "<table border=\"1\" class=\"dataframe\">\n",
              "  <thead>\n",
              "    <tr style=\"text-align: right;\">\n",
              "      <th></th>\n",
              "      <th>daily_rank</th>\n",
              "      <th>daily_movement</th>\n",
              "      <th>weekly_movement</th>\n",
              "      <th>popularity</th>\n",
              "      <th>duration_ms</th>\n",
              "      <th>danceability</th>\n",
              "      <th>energy</th>\n",
              "      <th>key</th>\n",
              "      <th>loudness</th>\n",
              "      <th>mode</th>\n",
              "      <th>speechiness</th>\n",
              "      <th>acousticness</th>\n",
              "      <th>instrumentalness</th>\n",
              "      <th>liveness</th>\n",
              "      <th>valence</th>\n",
              "      <th>tempo</th>\n",
              "      <th>time_signature</th>\n",
              "    </tr>\n",
              "  </thead>\n",
              "  <tbody>\n",
              "    <tr>\n",
              "      <th>count</th>\n",
              "      <td>40,172.00</td>\n",
              "      <td>40,172.00</td>\n",
              "      <td>40,172.00</td>\n",
              "      <td>40,172.00</td>\n",
              "      <td>40,172.00</td>\n",
              "      <td>40,172.00</td>\n",
              "      <td>40,172.00</td>\n",
              "      <td>40,172.00</td>\n",
              "      <td>40,172.00</td>\n",
              "      <td>40,172.00</td>\n",
              "      <td>40,172.00</td>\n",
              "      <td>40,172.00</td>\n",
              "      <td>40,172.00</td>\n",
              "      <td>40,172.00</td>\n",
              "      <td>40,172.00</td>\n",
              "      <td>40,172.00</td>\n",
              "      <td>40,172.00</td>\n",
              "    </tr>\n",
              "    <tr>\n",
              "      <th>mean</th>\n",
              "      <td>25.51</td>\n",
              "      <td>2.41</td>\n",
              "      <td>13.72</td>\n",
              "      <td>78.57</td>\n",
              "      <td>194,697.50</td>\n",
              "      <td>0.69</td>\n",
              "      <td>0.65</td>\n",
              "      <td>5.54</td>\n",
              "      <td>-6.63</td>\n",
              "      <td>0.49</td>\n",
              "      <td>0.11</td>\n",
              "      <td>0.29</td>\n",
              "      <td>0.02</td>\n",
              "      <td>0.17</td>\n",
              "      <td>0.53</td>\n",
              "      <td>122.12</td>\n",
              "      <td>3.91</td>\n",
              "    </tr>\n",
              "    <tr>\n",
              "      <th>std</th>\n",
              "      <td>14.44</td>\n",
              "      <td>9.18</td>\n",
              "      <td>16.86</td>\n",
              "      <td>15.26</td>\n",
              "      <td>49,500.08</td>\n",
              "      <td>0.14</td>\n",
              "      <td>0.16</td>\n",
              "      <td>3.47</td>\n",
              "      <td>2.65</td>\n",
              "      <td>0.50</td>\n",
              "      <td>0.10</td>\n",
              "      <td>0.25</td>\n",
              "      <td>0.10</td>\n",
              "      <td>0.12</td>\n",
              "      <td>0.23</td>\n",
              "      <td>27.67</td>\n",
              "      <td>0.43</td>\n",
              "    </tr>\n",
              "    <tr>\n",
              "      <th>min</th>\n",
              "      <td>1.00</td>\n",
              "      <td>-38.00</td>\n",
              "      <td>-36.00</td>\n",
              "      <td>0.00</td>\n",
              "      <td>0.00</td>\n",
              "      <td>0.22</td>\n",
              "      <td>0.02</td>\n",
              "      <td>0.00</td>\n",
              "      <td>-22.50</td>\n",
              "      <td>0.00</td>\n",
              "      <td>0.02</td>\n",
              "      <td>0.00</td>\n",
              "      <td>0.00</td>\n",
              "      <td>0.02</td>\n",
              "      <td>0.04</td>\n",
              "      <td>47.91</td>\n",
              "      <td>1.00</td>\n",
              "    </tr>\n",
              "    <tr>\n",
              "      <th>25%</th>\n",
              "      <td>13.00</td>\n",
              "      <td>-1.00</td>\n",
              "      <td>0.00</td>\n",
              "      <td>67.00</td>\n",
              "      <td>162,767.00</td>\n",
              "      <td>0.60</td>\n",
              "      <td>0.55</td>\n",
              "      <td>2.00</td>\n",
              "      <td>-8.03</td>\n",
              "      <td>0.00</td>\n",
              "      <td>0.04</td>\n",
              "      <td>0.09</td>\n",
              "      <td>0.00</td>\n",
              "      <td>0.10</td>\n",
              "      <td>0.36</td>\n",
              "      <td>99.97</td>\n",
              "      <td>4.00</td>\n",
              "    </tr>\n",
              "    <tr>\n",
              "      <th>50%</th>\n",
              "      <td>25.00</td>\n",
              "      <td>0.00</td>\n",
              "      <td>8.00</td>\n",
              "      <td>83.00</td>\n",
              "      <td>188,108.00</td>\n",
              "      <td>0.71</td>\n",
              "      <td>0.67</td>\n",
              "      <td>6.00</td>\n",
              "      <td>-6.21</td>\n",
              "      <td>0.00</td>\n",
              "      <td>0.07</td>\n",
              "      <td>0.21</td>\n",
              "      <td>0.00</td>\n",
              "      <td>0.12</td>\n",
              "      <td>0.52</td>\n",
              "      <td>120.03</td>\n",
              "      <td>4.00</td>\n",
              "    </tr>\n",
              "    <tr>\n",
              "      <th>75%</th>\n",
              "      <td>38.00</td>\n",
              "      <td>2.00</td>\n",
              "      <td>27.00</td>\n",
              "      <td>90.00</td>\n",
              "      <td>220,653.00</td>\n",
              "      <td>0.80</td>\n",
              "      <td>0.75</td>\n",
              "      <td>9.00</td>\n",
              "      <td>-4.91</td>\n",
              "      <td>1.00</td>\n",
              "      <td>0.14</td>\n",
              "      <td>0.46</td>\n",
              "      <td>0.00</td>\n",
              "      <td>0.21</td>\n",
              "      <td>0.71</td>\n",
              "      <td>140.06</td>\n",
              "      <td>4.00</td>\n",
              "    </tr>\n",
              "    <tr>\n",
              "      <th>max</th>\n",
              "      <td>50.00</td>\n",
              "      <td>49.00</td>\n",
              "      <td>49.00</td>\n",
              "      <td>100.00</td>\n",
              "      <td>641,941.00</td>\n",
              "      <td>0.97</td>\n",
              "      <td>1.00</td>\n",
              "      <td>11.00</td>\n",
              "      <td>1.16</td>\n",
              "      <td>1.00</td>\n",
              "      <td>0.78</td>\n",
              "      <td>0.98</td>\n",
              "      <td>0.97</td>\n",
              "      <td>0.97</td>\n",
              "      <td>0.98</td>\n",
              "      <td>217.97</td>\n",
              "      <td>5.00</td>\n",
              "    </tr>\n",
              "  </tbody>\n",
              "</table>\n",
              "</div>"
            ],
            "text/plain": [
              "      daily_rank daily_movement weekly_movement popularity duration_ms  \\\n",
              "count  40,172.00      40,172.00       40,172.00  40,172.00   40,172.00   \n",
              "mean       25.51           2.41           13.72      78.57  194,697.50   \n",
              "std        14.44           9.18           16.86      15.26   49,500.08   \n",
              "min         1.00         -38.00          -36.00       0.00        0.00   \n",
              "25%        13.00          -1.00            0.00      67.00  162,767.00   \n",
              "50%        25.00           0.00            8.00      83.00  188,108.00   \n",
              "75%        38.00           2.00           27.00      90.00  220,653.00   \n",
              "max        50.00          49.00           49.00     100.00  641,941.00   \n",
              "\n",
              "      danceability     energy        key   loudness       mode speechiness  \\\n",
              "count    40,172.00  40,172.00  40,172.00  40,172.00  40,172.00   40,172.00   \n",
              "mean          0.69       0.65       5.54      -6.63       0.49        0.11   \n",
              "std           0.14       0.16       3.47       2.65       0.50        0.10   \n",
              "min           0.22       0.02       0.00     -22.50       0.00        0.02   \n",
              "25%           0.60       0.55       2.00      -8.03       0.00        0.04   \n",
              "50%           0.71       0.67       6.00      -6.21       0.00        0.07   \n",
              "75%           0.80       0.75       9.00      -4.91       1.00        0.14   \n",
              "max           0.97       1.00      11.00       1.16       1.00        0.78   \n",
              "\n",
              "      acousticness instrumentalness   liveness    valence      tempo  \\\n",
              "count    40,172.00        40,172.00  40,172.00  40,172.00  40,172.00   \n",
              "mean          0.29             0.02       0.17       0.53     122.12   \n",
              "std           0.25             0.10       0.12       0.23      27.67   \n",
              "min           0.00             0.00       0.02       0.04      47.91   \n",
              "25%           0.09             0.00       0.10       0.36      99.97   \n",
              "50%           0.21             0.00       0.12       0.52     120.03   \n",
              "75%           0.46             0.00       0.21       0.71     140.06   \n",
              "max           0.98             0.97       0.97       0.98     217.97   \n",
              "\n",
              "      time_signature  \n",
              "count      40,172.00  \n",
              "mean            3.91  \n",
              "std             0.43  \n",
              "min             1.00  \n",
              "25%             4.00  \n",
              "50%             4.00  \n",
              "75%             4.00  \n",
              "max             5.00  "
            ]
          },
          "execution_count": 12,
          "metadata": {},
          "output_type": "execute_result"
        }
      ],
      "source": [
        "# checking vitak statistics of df\n",
        "df_a=df.describe()\n",
        "df_a.map(nf2)"
      ]
    },
    {
      "cell_type": "markdown",
      "metadata": {
        "id": "Ib1T_kAVBUdj"
      },
      "source": [
        "## Examining Anomaly"
      ]
    },
    {
      "cell_type": "code",
      "execution_count": 13,
      "metadata": {
        "id": "y4tHqin0BUdk"
      },
      "outputs": [
        {
          "data": {
            "text/html": [
              "<div>\n",
              "<style scoped>\n",
              "    .dataframe tbody tr th:only-of-type {\n",
              "        vertical-align: middle;\n",
              "    }\n",
              "\n",
              "    .dataframe tbody tr th {\n",
              "        vertical-align: top;\n",
              "    }\n",
              "\n",
              "    .dataframe thead th {\n",
              "        text-align: right;\n",
              "    }\n",
              "</style>\n",
              "<table border=\"1\" class=\"dataframe\">\n",
              "  <thead>\n",
              "    <tr style=\"text-align: right;\">\n",
              "      <th></th>\n",
              "      <th>spotify_id</th>\n",
              "      <th>name</th>\n",
              "      <th>artists</th>\n",
              "      <th>daily_rank</th>\n",
              "      <th>daily_movement</th>\n",
              "      <th>weekly_movement</th>\n",
              "      <th>country</th>\n",
              "      <th>snapshot_date</th>\n",
              "      <th>popularity</th>\n",
              "      <th>is_explicit</th>\n",
              "      <th>duration_ms</th>\n",
              "      <th>album_name</th>\n",
              "      <th>album_release_date</th>\n",
              "      <th>danceability</th>\n",
              "      <th>energy</th>\n",
              "      <th>key</th>\n",
              "      <th>loudness</th>\n",
              "      <th>mode</th>\n",
              "      <th>speechiness</th>\n",
              "      <th>acousticness</th>\n",
              "      <th>instrumentalness</th>\n",
              "      <th>liveness</th>\n",
              "      <th>valence</th>\n",
              "      <th>tempo</th>\n",
              "      <th>time_signature</th>\n",
              "    </tr>\n",
              "  </thead>\n",
              "  <tbody>\n",
              "    <tr>\n",
              "      <th>26982</th>\n",
              "      <td>6yxtsR3nc3aUL1wcbLn8A3</td>\n",
              "      <td>NaN</td>\n",
              "      <td>NaN</td>\n",
              "      <td>30</td>\n",
              "      <td>1</td>\n",
              "      <td>20</td>\n",
              "      <td>NG</td>\n",
              "      <td>2023-10-21</td>\n",
              "      <td>0</td>\n",
              "      <td>False</td>\n",
              "      <td>0</td>\n",
              "      <td>NaN</td>\n",
              "      <td>NaN</td>\n",
              "      <td>0.791</td>\n",
              "      <td>0.515</td>\n",
              "      <td>1</td>\n",
              "      <td>-8.178</td>\n",
              "      <td>0</td>\n",
              "      <td>0.168</td>\n",
              "      <td>0.554</td>\n",
              "      <td>0.288</td>\n",
              "      <td>0.0821</td>\n",
              "      <td>0.507</td>\n",
              "      <td>102.932</td>\n",
              "      <td>4</td>\n",
              "    </tr>\n",
              "  </tbody>\n",
              "</table>\n",
              "</div>"
            ],
            "text/plain": [
              "                   spotify_id name artists  daily_rank  daily_movement  \\\n",
              "26982  6yxtsR3nc3aUL1wcbLn8A3  NaN     NaN          30               1   \n",
              "\n",
              "       weekly_movement country snapshot_date  popularity  is_explicit  \\\n",
              "26982               20      NG    2023-10-21           0        False   \n",
              "\n",
              "       duration_ms album_name album_release_date  danceability  energy  key  \\\n",
              "26982            0        NaN                NaN         0.791   0.515    1   \n",
              "\n",
              "       loudness  mode  speechiness  acousticness  instrumentalness  liveness  \\\n",
              "26982    -8.178     0        0.168         0.554             0.288    0.0821   \n",
              "\n",
              "       valence    tempo  time_signature  \n",
              "26982    0.507  102.932               4  "
            ]
          },
          "execution_count": 13,
          "metadata": {},
          "output_type": "execute_result"
        }
      ],
      "source": [
        "# song whose duration_ms ==0\n",
        "df[df['duration_ms']==0]"
      ]
    },
    {
      "cell_type": "markdown",
      "metadata": {
        "id": "Yobapy-TBUdk"
      },
      "source": [
        "## Excluding Anomaly From the Dataframe"
      ]
    },
    {
      "cell_type": "code",
      "execution_count": 14,
      "metadata": {
        "id": "pW-yc8vJBUdk"
      },
      "outputs": [],
      "source": [
        "# modifying the df to exclude song whose duration_ms ==0\n",
        "df=df[df['duration_ms']!=0]"
      ]
    },
    {
      "cell_type": "markdown",
      "metadata": {
        "id": "wcbgJCJ7BUdk"
      },
      "source": [
        "## Dealing with Null Values"
      ]
    },
    {
      "cell_type": "code",
      "execution_count": 15,
      "metadata": {
        "id": "W7B2n8nxBUdk"
      },
      "outputs": [],
      "source": [
        "# replacing missing values in country will GL\n",
        "df['country'].fillna('GLO', inplace=True)"
      ]
    },
    {
      "cell_type": "markdown",
      "metadata": {
        "id": "xlWvOqRJBUdl"
      },
      "source": [
        "## Converting ISO Codes into Country Names"
      ]
    },
    {
      "cell_type": "code",
      "execution_count": 16,
      "metadata": {
        "id": "zWqyZG9-BUdl"
      },
      "outputs": [],
      "source": [
        "# inserting new column of countries name\n",
        "df_a = {\n",
        "    'AE': 'United Arab Emirates',\n",
        "    'AR': 'Argentina',\n",
        "    'AT': 'Austria',\n",
        "    'AU': 'Australia',\n",
        "    'BE': 'Belgium',\n",
        "    'BG': 'Bulgaria',\n",
        "    'BO': 'Bolivia',\n",
        "    'BR': 'Brazil',\n",
        "    'BY': 'Belarus',\n",
        "    'CA': 'Canada',\n",
        "    'CH': 'Switzerland',\n",
        "    'CL': 'Chile',\n",
        "    'CO': 'Colombia',\n",
        "    'CR': 'Costa Rica',\n",
        "    'CZ': 'Czech Republic',\n",
        "    'DE': 'Germany',\n",
        "    'DK': 'Denmark',\n",
        "    'DO': 'Dominican Republic',\n",
        "    'EC': 'Ecuador',\n",
        "    'EE': 'Estonia',\n",
        "    'EG': 'Egypt',\n",
        "    'ES': 'Spain',\n",
        "    'FI': 'Finland',\n",
        "    'FR': 'France',\n",
        "    'GB': 'United Kingdom',\n",
        "    'GR': 'Greece',\n",
        "    'GT': 'Guatemala',\n",
        "    'HK': 'Hong Kong',\n",
        "    'HN': 'Honduras',\n",
        "    'HU': 'Hungary',\n",
        "    'ID': 'Indonesia',\n",
        "    'IE': 'Ireland',\n",
        "    'IL': 'Israel',\n",
        "    'IN': 'India',\n",
        "    'IS': 'Iceland',\n",
        "    'IT': 'Italy',\n",
        "    'JP': 'Japan',\n",
        "    'KR': 'South Korea',\n",
        "    'KZ': 'Kazakhstan',\n",
        "    'LT': 'Lithuania',\n",
        "    'LU': 'Luxembourg',\n",
        "    'LV': 'Latvia',\n",
        "    'MA': 'Morocco',\n",
        "    'MX': 'Mexico',\n",
        "    'MY': 'Malaysia',\n",
        "    'NG': 'Nigeria',\n",
        "    'NI': 'Nicaragua',\n",
        "    'NL': 'Netherlands',\n",
        "    'NO': 'Norway',\n",
        "    'NZ': 'New Zealand',\n",
        "    'PA': 'Panama',\n",
        "    'PE': 'Peru',\n",
        "    'PH': 'Philippines',\n",
        "    'PK': 'Pakistan',\n",
        "    'PL': 'Poland',\n",
        "    'PT': 'Portugal',\n",
        "    'PY': 'Paraguay',\n",
        "    'RO': 'Romania',\n",
        "    'SA': 'Saudi Arabia',\n",
        "    'SE': 'Sweden',\n",
        "    'SG': 'Singapore',\n",
        "    'SK': 'Slovakia',\n",
        "    'SV': 'El Salvador',\n",
        "    'TH': 'Thailand',\n",
        "    'TR': 'Turkey',\n",
        "    'TW': 'Taiwan',\n",
        "    'UA': 'Ukraine',\n",
        "    'US': 'United States',\n",
        "    'UY': 'Uruguay',\n",
        "    'VE': 'Venezuela',\n",
        "    'VN': 'Vietnam',\n",
        "    'ZA': 'South Africa',\n",
        "    'GLO': 'Global'\n",
        "}\n",
        "\n",
        "# Create the 'country_name' column by mapping 'country' to ISO codes\n",
        "df['country_name'] = df['country'].map(df_a)\n"
      ]
    },
    {
      "cell_type": "markdown",
      "metadata": {
        "id": "MS1LLf1TBUdl"
      },
      "source": [
        "## Converting ISO Codes into Continent Names"
      ]
    },
    {
      "cell_type": "code",
      "execution_count": 17,
      "metadata": {
        "id": "JaqBNR7yBUdl"
      },
      "outputs": [],
      "source": [
        "# Create a dictionary to map countries to continents\n",
        "df_a = {\n",
        "    'AE': 'Asia',\n",
        "    'AR': 'South America',\n",
        "    'AT': 'Europe',\n",
        "    'AU': 'Australia',\n",
        "    'BE': 'Europe',\n",
        "    'BG': 'Europe',\n",
        "    'BO': 'South America',\n",
        "    'BR': 'South America',\n",
        "    'BY': 'Europe',\n",
        "    'CA': 'North America',\n",
        "    'CH': 'Europe',\n",
        "    'CL': 'South America',\n",
        "    'CO': 'South America',\n",
        "    'CR': 'North America',\n",
        "    'CZ': 'Europe',\n",
        "    'DE': 'Europe',\n",
        "    'DK': 'Europe',\n",
        "    'DO': 'North America',\n",
        "    'EC': 'South America',\n",
        "    'EE': 'Europe',\n",
        "    'EG': 'Africa',\n",
        "    'ES': 'Europe',\n",
        "    'FI': 'Europe',\n",
        "    'FR': 'Europe',\n",
        "    'GB': 'Europe',\n",
        "    'GR': 'Europe',\n",
        "    'GT': 'North America',\n",
        "    'HK': 'Asia',\n",
        "    'HN': 'North America',\n",
        "    'HU': 'Europe',\n",
        "    'ID': 'Asia',\n",
        "    'IE': 'Europe',\n",
        "    'IL': 'Asia',\n",
        "    'IN': 'Asia',\n",
        "    'IS': 'Europe',\n",
        "    'IT': 'Europe',\n",
        "    'JP': 'Asia',\n",
        "    'KR': 'Asia',\n",
        "    'KZ': 'Asia',\n",
        "    'LT': 'Europe',\n",
        "    'LU': 'Europe',\n",
        "    'LV': 'Europe',\n",
        "    'MA': 'Africa',\n",
        "    'MX': 'North America',\n",
        "    'MY': 'Asia',\n",
        "    'NG': 'Africa',\n",
        "    'NI': 'North America',\n",
        "    'NL': 'Europe',\n",
        "    'NO': 'Europe',\n",
        "    'NZ': 'Australia',\n",
        "    'PA': 'North America',\n",
        "    'PE': 'South America',\n",
        "    'PH': 'Asia',\n",
        "    'PK': 'Asia',\n",
        "    'PL': 'Europe',\n",
        "    'PT': 'Europe',\n",
        "    'PY': 'South America',\n",
        "    'RO': 'Europe',\n",
        "    'SA': 'Asia',\n",
        "    'SE': 'Europe',\n",
        "    'SG': 'Asia',\n",
        "    'SK': 'Europe',\n",
        "    'SV': 'North America',\n",
        "    'TH': 'Asia',\n",
        "    'TR': 'Asia',\n",
        "    'TW': 'Asia',\n",
        "    'UA': 'Europe',\n",
        "    'US': 'North America',\n",
        "    'UY': 'South America',\n",
        "    'VE': 'South America',\n",
        "    'VN': 'Asia',\n",
        "    'ZA': 'Africa',\n",
        "    'GLO': 'Global'\n",
        "}\n",
        "\n",
        "# Create the 'continent' column by mapping 'country' to continents\n",
        "df['continent'] = df['country'].map(df_a)\n"
      ]
    },
    {
      "cell_type": "code",
      "execution_count": 18,
      "metadata": {
        "id": "TGxhb0VpBUdl"
      },
      "outputs": [
        {
          "data": {
            "text/html": [
              "<div>\n",
              "<style scoped>\n",
              "    .dataframe tbody tr th:only-of-type {\n",
              "        vertical-align: middle;\n",
              "    }\n",
              "\n",
              "    .dataframe tbody tr th {\n",
              "        vertical-align: top;\n",
              "    }\n",
              "\n",
              "    .dataframe thead th {\n",
              "        text-align: right;\n",
              "    }\n",
              "</style>\n",
              "<table border=\"1\" class=\"dataframe\">\n",
              "  <thead>\n",
              "    <tr style=\"text-align: right;\">\n",
              "      <th></th>\n",
              "      <th>spotify_id</th>\n",
              "      <th>name</th>\n",
              "      <th>artists</th>\n",
              "      <th>daily_rank</th>\n",
              "      <th>daily_movement</th>\n",
              "      <th>weekly_movement</th>\n",
              "      <th>country</th>\n",
              "      <th>snapshot_date</th>\n",
              "      <th>popularity</th>\n",
              "      <th>is_explicit</th>\n",
              "      <th>duration_ms</th>\n",
              "      <th>album_name</th>\n",
              "      <th>album_release_date</th>\n",
              "      <th>danceability</th>\n",
              "      <th>energy</th>\n",
              "      <th>key</th>\n",
              "      <th>loudness</th>\n",
              "      <th>mode</th>\n",
              "      <th>speechiness</th>\n",
              "      <th>acousticness</th>\n",
              "      <th>instrumentalness</th>\n",
              "      <th>liveness</th>\n",
              "      <th>valence</th>\n",
              "      <th>tempo</th>\n",
              "      <th>time_signature</th>\n",
              "      <th>country_name</th>\n",
              "      <th>continent</th>\n",
              "    </tr>\n",
              "  </thead>\n",
              "  <tbody>\n",
              "    <tr>\n",
              "      <th>12927</th>\n",
              "      <td>4Y60H8heDsEpQ2hin2g6V5</td>\n",
              "      <td>Baby Mama</td>\n",
              "      <td>Don Pero</td>\n",
              "      <td>29</td>\n",
              "      <td>1</td>\n",
              "      <td>-2</td>\n",
              "      <td>IT</td>\n",
              "      <td>2023-10-25</td>\n",
              "      <td>76</td>\n",
              "      <td>True</td>\n",
              "      <td>151160</td>\n",
              "      <td>Baby Mama</td>\n",
              "      <td>2022-10-27</td>\n",
              "      <td>0.595</td>\n",
              "      <td>0.832</td>\n",
              "      <td>5</td>\n",
              "      <td>-5.331</td>\n",
              "      <td>0</td>\n",
              "      <td>0.0425</td>\n",
              "      <td>0.0345</td>\n",
              "      <td>0.000000</td>\n",
              "      <td>0.1490</td>\n",
              "      <td>0.243</td>\n",
              "      <td>90.475</td>\n",
              "      <td>4</td>\n",
              "      <td>Italy</td>\n",
              "      <td>Europe</td>\n",
              "    </tr>\n",
              "    <tr>\n",
              "      <th>27775</th>\n",
              "      <td>3XKdJfbBwnxUnn5tdaJoYL</td>\n",
              "      <td>Papa</td>\n",
              "      <td>DESH, Azahriah</td>\n",
              "      <td>28</td>\n",
              "      <td>-2</td>\n",
              "      <td>22</td>\n",
              "      <td>HU</td>\n",
              "      <td>2023-10-21</td>\n",
              "      <td>60</td>\n",
              "      <td>True</td>\n",
              "      <td>140480</td>\n",
              "      <td>DESHPERADO</td>\n",
              "      <td>2022-10-25</td>\n",
              "      <td>0.833</td>\n",
              "      <td>0.722</td>\n",
              "      <td>5</td>\n",
              "      <td>-7.579</td>\n",
              "      <td>0</td>\n",
              "      <td>0.0748</td>\n",
              "      <td>0.3820</td>\n",
              "      <td>0.000099</td>\n",
              "      <td>0.0986</td>\n",
              "      <td>0.425</td>\n",
              "      <td>104.017</td>\n",
              "      <td>4</td>\n",
              "      <td>Hungary</td>\n",
              "      <td>Europe</td>\n",
              "    </tr>\n",
              "    <tr>\n",
              "      <th>36890</th>\n",
              "      <td>7uyeEbG6hyApgXuEypGcsZ</td>\n",
              "      <td>Baddie</td>\n",
              "      <td>IVE</td>\n",
              "      <td>10</td>\n",
              "      <td>40</td>\n",
              "      <td>0</td>\n",
              "      <td>TW</td>\n",
              "      <td>2023-10-18</td>\n",
              "      <td>74</td>\n",
              "      <td>False</td>\n",
              "      <td>154360</td>\n",
              "      <td>I'VE MINE</td>\n",
              "      <td>2023-10-13</td>\n",
              "      <td>0.736</td>\n",
              "      <td>0.678</td>\n",
              "      <td>5</td>\n",
              "      <td>-4.503</td>\n",
              "      <td>1</td>\n",
              "      <td>0.0464</td>\n",
              "      <td>0.0459</td>\n",
              "      <td>0.000005</td>\n",
              "      <td>0.1040</td>\n",
              "      <td>0.757</td>\n",
              "      <td>160.045</td>\n",
              "      <td>4</td>\n",
              "      <td>Taiwan</td>\n",
              "      <td>Asia</td>\n",
              "    </tr>\n",
              "    <tr>\n",
              "      <th>21243</th>\n",
              "      <td>1JgknGBbrfmEHeOZH051SS</td>\n",
              "      <td>ecstacy (slowed)</td>\n",
              "      <td>SUICIDAL-IDOL</td>\n",
              "      <td>41</td>\n",
              "      <td>7</td>\n",
              "      <td>9</td>\n",
              "      <td>CZ</td>\n",
              "      <td>2023-10-23</td>\n",
              "      <td>89</td>\n",
              "      <td>True</td>\n",
              "      <td>119120</td>\n",
              "      <td>ecstacy (slowed)</td>\n",
              "      <td>2023-06-06</td>\n",
              "      <td>0.551</td>\n",
              "      <td>0.677</td>\n",
              "      <td>2</td>\n",
              "      <td>-7.311</td>\n",
              "      <td>1</td>\n",
              "      <td>0.0665</td>\n",
              "      <td>0.0173</td>\n",
              "      <td>0.000000</td>\n",
              "      <td>0.3810</td>\n",
              "      <td>0.195</td>\n",
              "      <td>106.414</td>\n",
              "      <td>4</td>\n",
              "      <td>Czech Republic</td>\n",
              "      <td>Europe</td>\n",
              "    </tr>\n",
              "    <tr>\n",
              "      <th>26422</th>\n",
              "      <td>6XSqqQIy7Lm7SnwxS4NrGx</td>\n",
              "      <td>Classy 101</td>\n",
              "      <td>Feid, Young Miko</td>\n",
              "      <td>20</td>\n",
              "      <td>-2</td>\n",
              "      <td>30</td>\n",
              "      <td>PY</td>\n",
              "      <td>2023-10-21</td>\n",
              "      <td>93</td>\n",
              "      <td>True</td>\n",
              "      <td>195986</td>\n",
              "      <td>Classy 101</td>\n",
              "      <td>2023-03-31</td>\n",
              "      <td>0.859</td>\n",
              "      <td>0.658</td>\n",
              "      <td>11</td>\n",
              "      <td>-4.790</td>\n",
              "      <td>1</td>\n",
              "      <td>0.1590</td>\n",
              "      <td>0.1450</td>\n",
              "      <td>0.000000</td>\n",
              "      <td>0.1200</td>\n",
              "      <td>0.672</td>\n",
              "      <td>100.065</td>\n",
              "      <td>4</td>\n",
              "      <td>Paraguay</td>\n",
              "      <td>South America</td>\n",
              "    </tr>\n",
              "  </tbody>\n",
              "</table>\n",
              "</div>"
            ],
            "text/plain": [
              "                   spotify_id              name           artists  daily_rank  \\\n",
              "12927  4Y60H8heDsEpQ2hin2g6V5         Baby Mama          Don Pero          29   \n",
              "27775  3XKdJfbBwnxUnn5tdaJoYL              Papa    DESH, Azahriah          28   \n",
              "36890  7uyeEbG6hyApgXuEypGcsZ            Baddie               IVE          10   \n",
              "21243  1JgknGBbrfmEHeOZH051SS  ecstacy (slowed)     SUICIDAL-IDOL          41   \n",
              "26422  6XSqqQIy7Lm7SnwxS4NrGx        Classy 101  Feid, Young Miko          20   \n",
              "\n",
              "       daily_movement  weekly_movement country snapshot_date  popularity  \\\n",
              "12927               1               -2      IT    2023-10-25          76   \n",
              "27775              -2               22      HU    2023-10-21          60   \n",
              "36890              40                0      TW    2023-10-18          74   \n",
              "21243               7                9      CZ    2023-10-23          89   \n",
              "26422              -2               30      PY    2023-10-21          93   \n",
              "\n",
              "       is_explicit  duration_ms        album_name album_release_date  \\\n",
              "12927         True       151160         Baby Mama         2022-10-27   \n",
              "27775         True       140480        DESHPERADO         2022-10-25   \n",
              "36890        False       154360         I'VE MINE         2023-10-13   \n",
              "21243         True       119120  ecstacy (slowed)         2023-06-06   \n",
              "26422         True       195986        Classy 101         2023-03-31   \n",
              "\n",
              "       danceability  energy  key  loudness  mode  speechiness  acousticness  \\\n",
              "12927         0.595   0.832    5    -5.331     0       0.0425        0.0345   \n",
              "27775         0.833   0.722    5    -7.579     0       0.0748        0.3820   \n",
              "36890         0.736   0.678    5    -4.503     1       0.0464        0.0459   \n",
              "21243         0.551   0.677    2    -7.311     1       0.0665        0.0173   \n",
              "26422         0.859   0.658   11    -4.790     1       0.1590        0.1450   \n",
              "\n",
              "       instrumentalness  liveness  valence    tempo  time_signature  \\\n",
              "12927          0.000000    0.1490    0.243   90.475               4   \n",
              "27775          0.000099    0.0986    0.425  104.017               4   \n",
              "36890          0.000005    0.1040    0.757  160.045               4   \n",
              "21243          0.000000    0.3810    0.195  106.414               4   \n",
              "26422          0.000000    0.1200    0.672  100.065               4   \n",
              "\n",
              "         country_name      continent  \n",
              "12927           Italy         Europe  \n",
              "27775         Hungary         Europe  \n",
              "36890          Taiwan           Asia  \n",
              "21243  Czech Republic         Europe  \n",
              "26422        Paraguay  South America  "
            ]
          },
          "execution_count": 18,
          "metadata": {},
          "output_type": "execute_result"
        }
      ],
      "source": [
        "df.sample(5)"
      ]
    },
    {
      "cell_type": "markdown",
      "metadata": {
        "id": "mqHYPYr4BUdl"
      },
      "source": [
        "# Exploratory Data Analysis\n",
        "\n",
        "In this report, we present the results of our comprehensive Exploratory Data Analysis (EDA) of a music dataset containing information about top Spotify songs from 7 continents. The dataset encompasses a wide range of attributes, including song popularity, explicit content, music features, and more. Through this EDA, we aimed to uncover valuable insights and patterns within the dataset, shedding light on the relationships between different attributes and their variations across continents. Our analysis not only provides a deeper understanding of the dataset but also serves as a foundational step for subsequent data-driven decisions and modeling efforts in the realm of music analytics. Join us on this analytical journey to explore the fascinating world of music data."
      ]
    },
    {
      "cell_type": "markdown",
      "metadata": {
        "id": "DwtvQ9cWBUdl"
      },
      "source": [
        "___"
      ]
    },
    {
      "cell_type": "markdown",
      "metadata": {
        "id": "fFu3qoyiBUdm"
      },
      "source": [
        "**Task** As part of the exploratory data analysis (EDA), we want to understand the distribution of explicit and non-explicit songs listened to in each continent.\n",
        "\n",
        "**Question** How does the count of explicit and non-explicit songs vary across different continents?"
      ]
    },
    {
      "cell_type": "code",
      "execution_count": 19,
      "metadata": {
        "id": "4UbYcEJEBUdm"
      },
      "outputs": [
        {
          "data": {
            "text/html": [
              "<div>\n",
              "<style scoped>\n",
              "    .dataframe tbody tr th:only-of-type {\n",
              "        vertical-align: middle;\n",
              "    }\n",
              "\n",
              "    .dataframe tbody tr th {\n",
              "        vertical-align: top;\n",
              "    }\n",
              "\n",
              "    .dataframe thead th {\n",
              "        text-align: right;\n",
              "    }\n",
              "</style>\n",
              "<table border=\"1\" class=\"dataframe\">\n",
              "  <thead>\n",
              "    <tr style=\"text-align: right;\">\n",
              "      <th>is_explicit</th>\n",
              "      <th>False</th>\n",
              "      <th>True</th>\n",
              "    </tr>\n",
              "    <tr>\n",
              "      <th>continent</th>\n",
              "      <th></th>\n",
              "      <th></th>\n",
              "    </tr>\n",
              "  </thead>\n",
              "  <tbody>\n",
              "    <tr>\n",
              "      <th>Africa</th>\n",
              "      <td>1,480.00</td>\n",
              "      <td>729.00</td>\n",
              "    </tr>\n",
              "    <tr>\n",
              "      <th>Asia</th>\n",
              "      <td>7,920.00</td>\n",
              "      <td>1,457.00</td>\n",
              "    </tr>\n",
              "    <tr>\n",
              "      <th>Australia</th>\n",
              "      <td>686.00</td>\n",
              "      <td>417.00</td>\n",
              "    </tr>\n",
              "    <tr>\n",
              "      <th>Europe</th>\n",
              "      <td>9,146.00</td>\n",
              "      <td>6,750.00</td>\n",
              "    </tr>\n",
              "    <tr>\n",
              "      <th>Global</th>\n",
              "      <td>263.00</td>\n",
              "      <td>289.00</td>\n",
              "    </tr>\n",
              "    <tr>\n",
              "      <th>North America</th>\n",
              "      <td>1,958.00</td>\n",
              "      <td>3,566.00</td>\n",
              "    </tr>\n",
              "    <tr>\n",
              "      <th>South America</th>\n",
              "      <td>2,562.00</td>\n",
              "      <td>2,948.00</td>\n",
              "    </tr>\n",
              "  </tbody>\n",
              "</table>\n",
              "</div>"
            ],
            "text/plain": [
              "is_explicit       False     True \n",
              "continent                        \n",
              "Africa         1,480.00    729.00\n",
              "Asia           7,920.00  1,457.00\n",
              "Australia        686.00    417.00\n",
              "Europe         9,146.00  6,750.00\n",
              "Global           263.00    289.00\n",
              "North America  1,958.00  3,566.00\n",
              "South America  2,562.00  2,948.00"
            ]
          },
          "execution_count": 19,
          "metadata": {},
          "output_type": "execute_result"
        }
      ],
      "source": [
        "# count of explicit and not explicit songs listened in each continent\n",
        "df_a=df.groupby(['continent','is_explicit'])['spotify_id'].count().sort_values(ascending=False).unstack()\n",
        "df_a.map(nf2)"
      ]
    },
    {
      "cell_type": "markdown",
      "metadata": {
        "id": "wRe2I7trBUdm"
      },
      "source": [
        "This table provides insights into the distribution of explicit and non-explicit songs within each continent. It allows us to see variations in song preferences across different regions.\n",
        "\n",
        "**Conclusion:** In Europe and North America, there is a significant number of explicit songs, while in Asia and Australia, non-explicit songs are more prevalent.\n",
        "\n",
        "___"
      ]
    },
    {
      "cell_type": "markdown",
      "metadata": {
        "id": "_9ADrD73BUdm"
      },
      "source": [
        "**Task** As part of the exploratory data analysis (EDA), we want to understand the mean popularity of explicit and non-explicit songs listened to in each continent.\n",
        "\n",
        "**Question** How does the mean popularity differ between explicit and non-explicit songs in different continents?"
      ]
    },
    {
      "cell_type": "code",
      "execution_count": 20,
      "metadata": {
        "id": "SxPu1zbCBUdm"
      },
      "outputs": [
        {
          "data": {
            "text/html": [
              "<div>\n",
              "<style scoped>\n",
              "    .dataframe tbody tr th:only-of-type {\n",
              "        vertical-align: middle;\n",
              "    }\n",
              "\n",
              "    .dataframe tbody tr th {\n",
              "        vertical-align: top;\n",
              "    }\n",
              "\n",
              "    .dataframe thead th {\n",
              "        text-align: right;\n",
              "    }\n",
              "</style>\n",
              "<table border=\"1\" class=\"dataframe\">\n",
              "  <thead>\n",
              "    <tr style=\"text-align: right;\">\n",
              "      <th>is_explicit</th>\n",
              "      <th>False</th>\n",
              "      <th>True</th>\n",
              "    </tr>\n",
              "    <tr>\n",
              "      <th>continent</th>\n",
              "      <th></th>\n",
              "      <th></th>\n",
              "    </tr>\n",
              "  </thead>\n",
              "  <tbody>\n",
              "    <tr>\n",
              "      <th>Africa</th>\n",
              "      <td>64.64</td>\n",
              "      <td>68.36</td>\n",
              "    </tr>\n",
              "    <tr>\n",
              "      <th>Asia</th>\n",
              "      <td>75.31</td>\n",
              "      <td>85.81</td>\n",
              "    </tr>\n",
              "    <tr>\n",
              "      <th>Australia</th>\n",
              "      <td>87.53</td>\n",
              "      <td>90.05</td>\n",
              "    </tr>\n",
              "    <tr>\n",
              "      <th>Europe</th>\n",
              "      <td>73.74</td>\n",
              "      <td>76.10</td>\n",
              "    </tr>\n",
              "    <tr>\n",
              "      <th>Global</th>\n",
              "      <td>91.74</td>\n",
              "      <td>91.25</td>\n",
              "    </tr>\n",
              "    <tr>\n",
              "      <th>North America</th>\n",
              "      <td>85.56</td>\n",
              "      <td>88.17</td>\n",
              "    </tr>\n",
              "    <tr>\n",
              "      <th>South America</th>\n",
              "      <td>83.12</td>\n",
              "      <td>87.68</td>\n",
              "    </tr>\n",
              "  </tbody>\n",
              "</table>\n",
              "</div>"
            ],
            "text/plain": [
              "is_explicit    False  True \n",
              "continent                  \n",
              "Africa         64.64  68.36\n",
              "Asia           75.31  85.81\n",
              "Australia      87.53  90.05\n",
              "Europe         73.74  76.10\n",
              "Global         91.74  91.25\n",
              "North America  85.56  88.17\n",
              "South America  83.12  87.68"
            ]
          },
          "execution_count": 20,
          "metadata": {},
          "output_type": "execute_result"
        }
      ],
      "source": [
        "# mean popularity of explicit and not explicit songs listened in each continent\n",
        "df_a=df.groupby(['continent','is_explicit'])['popularity'].mean().sort_values(ascending=False).unstack()\n",
        "df_a.map(nf2)"
      ]
    },
    {
      "cell_type": "markdown",
      "metadata": {
        "id": "gIOiqyJ4BUdm"
      },
      "source": [
        "This table provides insights into the mean popularity of explicit and non-explicit songs within each continent. It allows us to see variations in the popularity of songs based on their explicit content across different regions.\n",
        "\n",
        "**Conclusion**: Explicit songs tend to have higher mean popularity in most continents compared to non-explicit songs.\n",
        "\n",
        "___"
      ]
    },
    {
      "cell_type": "markdown",
      "metadata": {
        "id": "7wjYpHG6BUdn"
      },
      "source": [
        "**Task** As part of the exploratory data analysis (EDA), we aim to calculate the total duration (in hours) of explicit and non-explicit songs listened to in each continent.\n",
        "\n",
        "**Question** How does the total duration vary between explicit and non-explicit songs in different continents?"
      ]
    },
    {
      "cell_type": "code",
      "execution_count": 21,
      "metadata": {
        "id": "nEMnN_gBBUdn"
      },
      "outputs": [
        {
          "data": {
            "text/html": [
              "<div>\n",
              "<style scoped>\n",
              "    .dataframe tbody tr th:only-of-type {\n",
              "        vertical-align: middle;\n",
              "    }\n",
              "\n",
              "    .dataframe tbody tr th {\n",
              "        vertical-align: top;\n",
              "    }\n",
              "\n",
              "    .dataframe thead th {\n",
              "        text-align: right;\n",
              "    }\n",
              "</style>\n",
              "<table border=\"1\" class=\"dataframe\">\n",
              "  <thead>\n",
              "    <tr style=\"text-align: right;\">\n",
              "      <th>is_explicit</th>\n",
              "      <th>False</th>\n",
              "      <th>True</th>\n",
              "    </tr>\n",
              "    <tr>\n",
              "      <th>continent</th>\n",
              "      <th></th>\n",
              "      <th></th>\n",
              "    </tr>\n",
              "  </thead>\n",
              "  <tbody>\n",
              "    <tr>\n",
              "      <th>Africa</th>\n",
              "      <td>92.73</td>\n",
              "      <td>38.97</td>\n",
              "    </tr>\n",
              "    <tr>\n",
              "      <th>Asia</th>\n",
              "      <td>461.33</td>\n",
              "      <td>78.91</td>\n",
              "    </tr>\n",
              "    <tr>\n",
              "      <th>Australia</th>\n",
              "      <td>38.05</td>\n",
              "      <td>24.11</td>\n",
              "    </tr>\n",
              "    <tr>\n",
              "      <th>Europe</th>\n",
              "      <td>460.12</td>\n",
              "      <td>342.54</td>\n",
              "    </tr>\n",
              "    <tr>\n",
              "      <th>Global</th>\n",
              "      <td>14.35</td>\n",
              "      <td>16.44</td>\n",
              "    </tr>\n",
              "    <tr>\n",
              "      <th>North America</th>\n",
              "      <td>100.32</td>\n",
              "      <td>209.80</td>\n",
              "    </tr>\n",
              "    <tr>\n",
              "      <th>South America</th>\n",
              "      <td>125.62</td>\n",
              "      <td>169.31</td>\n",
              "    </tr>\n",
              "  </tbody>\n",
              "</table>\n",
              "</div>"
            ],
            "text/plain": [
              "is_explicit     False   True \n",
              "continent                    \n",
              "Africa          92.73   38.97\n",
              "Asia           461.33   78.91\n",
              "Australia       38.05   24.11\n",
              "Europe         460.12  342.54\n",
              "Global          14.35   16.44\n",
              "North America  100.32  209.80\n",
              "South America  125.62  169.31"
            ]
          },
          "execution_count": 21,
          "metadata": {},
          "output_type": "execute_result"
        }
      ],
      "source": [
        "# total duration (in hours) of explicit and not explicit songs in each continent\n",
        "df_a=df.groupby(['continent','is_explicit'])['duration_ms'].sum().sort_values(ascending=False).unstack()/1000/60/60\n",
        "df_a.map(nf2)"
      ]
    },
    {
      "cell_type": "markdown",
      "metadata": {
        "id": "w_E1jA5YBUdn"
      },
      "source": [
        "This table provides insights into the total duration of explicit and non-explicit songs within each continent, measured in hours. It allows us to see variations in the listening habits in terms of song duration across different regions.\n",
        "\n",
        "**Conclusion:** In South and North America, non-explicit songs have a significantly shorter total duration compared to explicit songs. On the other hand trend is opposit for all other continents.\n",
        "\n",
        "___"
      ]
    },
    {
      "cell_type": "markdown",
      "metadata": {
        "id": "Jn3pMXojBUdr"
      },
      "source": [
        "**Task** As part of the exploratory data analysis (EDA), we want to examine the mean danceability of explicit and non-explicit songs in each continent.\n",
        "\n",
        "**Question** How does the mean danceability vary between explicit and non-explicit songs in different continents?"
      ]
    },
    {
      "cell_type": "code",
      "execution_count": 22,
      "metadata": {
        "id": "hVM9wFmVBUdr"
      },
      "outputs": [
        {
          "data": {
            "text/html": [
              "<div>\n",
              "<style scoped>\n",
              "    .dataframe tbody tr th:only-of-type {\n",
              "        vertical-align: middle;\n",
              "    }\n",
              "\n",
              "    .dataframe tbody tr th {\n",
              "        vertical-align: top;\n",
              "    }\n",
              "\n",
              "    .dataframe thead th {\n",
              "        text-align: right;\n",
              "    }\n",
              "</style>\n",
              "<table border=\"1\" class=\"dataframe\">\n",
              "  <thead>\n",
              "    <tr style=\"text-align: right;\">\n",
              "      <th>is_explicit</th>\n",
              "      <th>False</th>\n",
              "      <th>True</th>\n",
              "    </tr>\n",
              "    <tr>\n",
              "      <th>continent</th>\n",
              "      <th></th>\n",
              "      <th></th>\n",
              "    </tr>\n",
              "  </thead>\n",
              "  <tbody>\n",
              "    <tr>\n",
              "      <th>Africa</th>\n",
              "      <td>0.73</td>\n",
              "      <td>0.72</td>\n",
              "    </tr>\n",
              "    <tr>\n",
              "      <th>Asia</th>\n",
              "      <td>0.62</td>\n",
              "      <td>0.74</td>\n",
              "    </tr>\n",
              "    <tr>\n",
              "      <th>Australia</th>\n",
              "      <td>0.62</td>\n",
              "      <td>0.69</td>\n",
              "    </tr>\n",
              "    <tr>\n",
              "      <th>Europe</th>\n",
              "      <td>0.66</td>\n",
              "      <td>0.73</td>\n",
              "    </tr>\n",
              "    <tr>\n",
              "      <th>Global</th>\n",
              "      <td>0.59</td>\n",
              "      <td>0.74</td>\n",
              "    </tr>\n",
              "    <tr>\n",
              "      <th>North America</th>\n",
              "      <td>0.66</td>\n",
              "      <td>0.76</td>\n",
              "    </tr>\n",
              "    <tr>\n",
              "      <th>South America</th>\n",
              "      <td>0.70</td>\n",
              "      <td>0.78</td>\n",
              "    </tr>\n",
              "  </tbody>\n",
              "</table>\n",
              "</div>"
            ],
            "text/plain": [
              "is_explicit   False True \n",
              "continent                \n",
              "Africa         0.73  0.72\n",
              "Asia           0.62  0.74\n",
              "Australia      0.62  0.69\n",
              "Europe         0.66  0.73\n",
              "Global         0.59  0.74\n",
              "North America  0.66  0.76\n",
              "South America  0.70  0.78"
            ]
          },
          "execution_count": 22,
          "metadata": {},
          "output_type": "execute_result"
        }
      ],
      "source": [
        "# mean danceability of explicit and not explicit songs in each continent\n",
        "df_a=df.groupby(['continent','is_explicit'])['danceability'].mean().sort_values(ascending=False).unstack()\n",
        "df_a.map(nf2)"
      ]
    },
    {
      "cell_type": "markdown",
      "metadata": {
        "id": "xypX7s7MBUds"
      },
      "source": [
        "This table provides insights into the mean danceability of explicit and non-explicit songs within each continent. It allows us to see variations in the danceability of songs based on their explicit content across different regions.\n",
        "\n",
        "**Conclusion:** Explicit songs tend to have higher mean danceability in all continents but Africa compared to non-explicit songs.\n",
        "\n",
        "___"
      ]
    },
    {
      "cell_type": "markdown",
      "metadata": {
        "id": "6xDCT3KaBUds"
      },
      "source": [
        "**Task** As part of the exploratory data analysis (EDA), we aim to analyze the mean energy of explicit and non-explicit songs in each continent.\n",
        "\n",
        "**Question** How does the mean energy differ between explicit and non-explicit songs in different continents?"
      ]
    },
    {
      "cell_type": "code",
      "execution_count": 23,
      "metadata": {
        "id": "F7Ml5kxEBUds"
      },
      "outputs": [
        {
          "data": {
            "text/html": [
              "<div>\n",
              "<style scoped>\n",
              "    .dataframe tbody tr th:only-of-type {\n",
              "        vertical-align: middle;\n",
              "    }\n",
              "\n",
              "    .dataframe tbody tr th {\n",
              "        vertical-align: top;\n",
              "    }\n",
              "\n",
              "    .dataframe thead th {\n",
              "        text-align: right;\n",
              "    }\n",
              "</style>\n",
              "<table border=\"1\" class=\"dataframe\">\n",
              "  <thead>\n",
              "    <tr style=\"text-align: right;\">\n",
              "      <th>is_explicit</th>\n",
              "      <th>False</th>\n",
              "      <th>True</th>\n",
              "    </tr>\n",
              "    <tr>\n",
              "      <th>continent</th>\n",
              "      <th></th>\n",
              "      <th></th>\n",
              "    </tr>\n",
              "  </thead>\n",
              "  <tbody>\n",
              "    <tr>\n",
              "      <th>Africa</th>\n",
              "      <td>0.64</td>\n",
              "      <td>0.63</td>\n",
              "    </tr>\n",
              "    <tr>\n",
              "      <th>Asia</th>\n",
              "      <td>0.60</td>\n",
              "      <td>0.66</td>\n",
              "    </tr>\n",
              "    <tr>\n",
              "      <th>Australia</th>\n",
              "      <td>0.63</td>\n",
              "      <td>0.67</td>\n",
              "    </tr>\n",
              "    <tr>\n",
              "      <th>Europe</th>\n",
              "      <td>0.64</td>\n",
              "      <td>0.66</td>\n",
              "    </tr>\n",
              "    <tr>\n",
              "      <th>Global</th>\n",
              "      <td>0.59</td>\n",
              "      <td>0.70</td>\n",
              "    </tr>\n",
              "    <tr>\n",
              "      <th>North America</th>\n",
              "      <td>0.63</td>\n",
              "      <td>0.69</td>\n",
              "    </tr>\n",
              "    <tr>\n",
              "      <th>South America</th>\n",
              "      <td>0.67</td>\n",
              "      <td>0.70</td>\n",
              "    </tr>\n",
              "  </tbody>\n",
              "</table>\n",
              "</div>"
            ],
            "text/plain": [
              "is_explicit   False True \n",
              "continent                \n",
              "Africa         0.64  0.63\n",
              "Asia           0.60  0.66\n",
              "Australia      0.63  0.67\n",
              "Europe         0.64  0.66\n",
              "Global         0.59  0.70\n",
              "North America  0.63  0.69\n",
              "South America  0.67  0.70"
            ]
          },
          "execution_count": 23,
          "metadata": {},
          "output_type": "execute_result"
        }
      ],
      "source": [
        "# mean energy of explicit and not explicit songs in each continent\n",
        "df_a=df.groupby(['continent','is_explicit'])['energy'].mean().sort_values(ascending=False).unstack()\n",
        "df_a.map(nf2)"
      ]
    },
    {
      "cell_type": "markdown",
      "metadata": {
        "id": "JXGgyqa8BUds"
      },
      "source": [
        "This table provides insights into the mean energy of explicit and non-explicit songs within each continent. It allows us to see variations in the energy levels of songs based on their explicit content across different regions.\n",
        "\n",
        "**Conclusion**: Explicit songs tend to have higher mean energy in all continents but Africa compared to non-explicit songs.\n",
        "\n",
        "___"
      ]
    },
    {
      "cell_type": "markdown",
      "metadata": {
        "id": "Do93ozP9BUds"
      },
      "source": [
        "**Task** As part of the exploratory data analysis (EDA), we want to explore the mean key of explicit and non-explicit songs in each continent.\n",
        "\n",
        "**Question** How does the mean key value differ between explicit and non-explicit songs in different continents?"
      ]
    },
    {
      "cell_type": "code",
      "execution_count": 24,
      "metadata": {
        "id": "ejgPxuq5BUds"
      },
      "outputs": [
        {
          "data": {
            "text/html": [
              "<div>\n",
              "<style scoped>\n",
              "    .dataframe tbody tr th:only-of-type {\n",
              "        vertical-align: middle;\n",
              "    }\n",
              "\n",
              "    .dataframe tbody tr th {\n",
              "        vertical-align: top;\n",
              "    }\n",
              "\n",
              "    .dataframe thead th {\n",
              "        text-align: right;\n",
              "    }\n",
              "</style>\n",
              "<table border=\"1\" class=\"dataframe\">\n",
              "  <thead>\n",
              "    <tr style=\"text-align: right;\">\n",
              "      <th>is_explicit</th>\n",
              "      <th>False</th>\n",
              "      <th>True</th>\n",
              "    </tr>\n",
              "    <tr>\n",
              "      <th>continent</th>\n",
              "      <th></th>\n",
              "      <th></th>\n",
              "    </tr>\n",
              "  </thead>\n",
              "  <tbody>\n",
              "    <tr>\n",
              "      <th>Africa</th>\n",
              "      <td>5.73</td>\n",
              "      <td>5.77</td>\n",
              "    </tr>\n",
              "    <tr>\n",
              "      <th>Asia</th>\n",
              "      <td>5.52</td>\n",
              "      <td>5.31</td>\n",
              "    </tr>\n",
              "    <tr>\n",
              "      <th>Australia</th>\n",
              "      <td>5.21</td>\n",
              "      <td>5.01</td>\n",
              "    </tr>\n",
              "    <tr>\n",
              "      <th>Europe</th>\n",
              "      <td>5.63</td>\n",
              "      <td>5.22</td>\n",
              "    </tr>\n",
              "    <tr>\n",
              "      <th>Global</th>\n",
              "      <td>5.22</td>\n",
              "      <td>5.51</td>\n",
              "    </tr>\n",
              "    <tr>\n",
              "      <th>North America</th>\n",
              "      <td>6.07</td>\n",
              "      <td>5.45</td>\n",
              "    </tr>\n",
              "    <tr>\n",
              "      <th>South America</th>\n",
              "      <td>5.98</td>\n",
              "      <td>5.50</td>\n",
              "    </tr>\n",
              "  </tbody>\n",
              "</table>\n",
              "</div>"
            ],
            "text/plain": [
              "is_explicit   False True \n",
              "continent                \n",
              "Africa         5.73  5.77\n",
              "Asia           5.52  5.31\n",
              "Australia      5.21  5.01\n",
              "Europe         5.63  5.22\n",
              "Global         5.22  5.51\n",
              "North America  6.07  5.45\n",
              "South America  5.98  5.50"
            ]
          },
          "execution_count": 24,
          "metadata": {},
          "output_type": "execute_result"
        }
      ],
      "source": [
        "# mean key of explicit and not explicit songs in each continent\n",
        "df_a=df.groupby(['continent','is_explicit'])['key'].mean().sort_values(ascending=False).unstack()\n",
        "df_a.map(nf2)\n"
      ]
    },
    {
      "cell_type": "markdown",
      "metadata": {
        "id": "-AMYqGcpBUds"
      },
      "source": [
        "This table provides insights into the mean key values of explicit and non-explicit songs within each continent. It allows us to see variations in the key signatures of songs based on their explicit content across different regions.\n",
        "\n",
        "**Conclusion** Explicit songs tend to have relatively consistent mean key values in most continents, with some variation.\n",
        "___"
      ]
    },
    {
      "cell_type": "markdown",
      "metadata": {
        "id": "OEl9IEmKBUdt"
      },
      "source": [
        "**Task** As part of the exploratory data analysis (EDA), we want to examine the mean loudness of explicit and non-explicit songs in each continent.\n",
        "\n",
        "**Question** How does the mean loudness differ between explicit and non-explicit songs in different continents?"
      ]
    },
    {
      "cell_type": "code",
      "execution_count": 25,
      "metadata": {
        "id": "mv6c1_pnBUdt"
      },
      "outputs": [
        {
          "data": {
            "text/html": [
              "<div>\n",
              "<style scoped>\n",
              "    .dataframe tbody tr th:only-of-type {\n",
              "        vertical-align: middle;\n",
              "    }\n",
              "\n",
              "    .dataframe tbody tr th {\n",
              "        vertical-align: top;\n",
              "    }\n",
              "\n",
              "    .dataframe thead th {\n",
              "        text-align: right;\n",
              "    }\n",
              "</style>\n",
              "<table border=\"1\" class=\"dataframe\">\n",
              "  <thead>\n",
              "    <tr style=\"text-align: right;\">\n",
              "      <th>is_explicit</th>\n",
              "      <th>False</th>\n",
              "      <th>True</th>\n",
              "    </tr>\n",
              "    <tr>\n",
              "      <th>continent</th>\n",
              "      <th></th>\n",
              "      <th></th>\n",
              "    </tr>\n",
              "  </thead>\n",
              "  <tbody>\n",
              "    <tr>\n",
              "      <th>Africa</th>\n",
              "      <td>-7.87</td>\n",
              "      <td>-7.72</td>\n",
              "    </tr>\n",
              "    <tr>\n",
              "      <th>Asia</th>\n",
              "      <td>-7.22</td>\n",
              "      <td>-6.44</td>\n",
              "    </tr>\n",
              "    <tr>\n",
              "      <th>Australia</th>\n",
              "      <td>-7.01</td>\n",
              "      <td>-6.24</td>\n",
              "    </tr>\n",
              "    <tr>\n",
              "      <th>Europe</th>\n",
              "      <td>-7.08</td>\n",
              "      <td>-6.88</td>\n",
              "    </tr>\n",
              "    <tr>\n",
              "      <th>Global</th>\n",
              "      <td>-7.46</td>\n",
              "      <td>-5.61</td>\n",
              "    </tr>\n",
              "    <tr>\n",
              "      <th>North America</th>\n",
              "      <td>-6.30</td>\n",
              "      <td>-5.29</td>\n",
              "    </tr>\n",
              "    <tr>\n",
              "      <th>South America</th>\n",
              "      <td>-5.62</td>\n",
              "      <td>-5.06</td>\n",
              "    </tr>\n",
              "  </tbody>\n",
              "</table>\n",
              "</div>"
            ],
            "text/plain": [
              "is_explicit    False  True \n",
              "continent                  \n",
              "Africa         -7.87  -7.72\n",
              "Asia           -7.22  -6.44\n",
              "Australia      -7.01  -6.24\n",
              "Europe         -7.08  -6.88\n",
              "Global         -7.46  -5.61\n",
              "North America  -6.30  -5.29\n",
              "South America  -5.62  -5.06"
            ]
          },
          "execution_count": 25,
          "metadata": {},
          "output_type": "execute_result"
        }
      ],
      "source": [
        "# mean loudness of explicit and not explicit songs in each continent\n",
        "df_a=df.groupby(['continent','is_explicit'])['loudness'].mean().sort_values(ascending=False).unstack()\n",
        "df_a.map(nf2)\n"
      ]
    },
    {
      "cell_type": "markdown",
      "metadata": {
        "id": "54BMy2GLBUdt"
      },
      "source": [
        "This table provides insights into the mean loudness of explicit and non-explicit songs within each continent. It allows us to see variations in the loudness of songs based on their explicit content across different regions.\n",
        "\n",
        "**Conclusion**: Explicit songs tend to have higher mean loudness in most continents compared to non-explicit songs, indicating a relatively louder sound profile.\n",
        "___"
      ]
    },
    {
      "cell_type": "markdown",
      "metadata": {
        "id": "e-CE-82qBUdt"
      },
      "source": [
        "**Task** As part of the exploratory data analysis (EDA), we want to explore the mean mode of explicit and non-explicit songs in each continent.\n",
        "\n",
        "**Question** How does the mean mode value differ between explicit and non-explicit songs in different continents?"
      ]
    },
    {
      "cell_type": "code",
      "execution_count": 26,
      "metadata": {
        "id": "WGFHa7dcBUdt"
      },
      "outputs": [
        {
          "data": {
            "text/html": [
              "<div>\n",
              "<style scoped>\n",
              "    .dataframe tbody tr th:only-of-type {\n",
              "        vertical-align: middle;\n",
              "    }\n",
              "\n",
              "    .dataframe tbody tr th {\n",
              "        vertical-align: top;\n",
              "    }\n",
              "\n",
              "    .dataframe thead th {\n",
              "        text-align: right;\n",
              "    }\n",
              "</style>\n",
              "<table border=\"1\" class=\"dataframe\">\n",
              "  <thead>\n",
              "    <tr style=\"text-align: right;\">\n",
              "      <th>is_explicit</th>\n",
              "      <th>False</th>\n",
              "      <th>True</th>\n",
              "    </tr>\n",
              "    <tr>\n",
              "      <th>continent</th>\n",
              "      <th></th>\n",
              "      <th></th>\n",
              "    </tr>\n",
              "  </thead>\n",
              "  <tbody>\n",
              "    <tr>\n",
              "      <th>Africa</th>\n",
              "      <td>0.37</td>\n",
              "      <td>0.42</td>\n",
              "    </tr>\n",
              "    <tr>\n",
              "      <th>Asia</th>\n",
              "      <td>0.59</td>\n",
              "      <td>0.54</td>\n",
              "    </tr>\n",
              "    <tr>\n",
              "      <th>Australia</th>\n",
              "      <td>0.68</td>\n",
              "      <td>0.66</td>\n",
              "    </tr>\n",
              "    <tr>\n",
              "      <th>Europe</th>\n",
              "      <td>0.42</td>\n",
              "      <td>0.46</td>\n",
              "    </tr>\n",
              "    <tr>\n",
              "      <th>Global</th>\n",
              "      <td>0.59</td>\n",
              "      <td>0.51</td>\n",
              "    </tr>\n",
              "    <tr>\n",
              "      <th>North America</th>\n",
              "      <td>0.57</td>\n",
              "      <td>0.43</td>\n",
              "    </tr>\n",
              "    <tr>\n",
              "      <th>South America</th>\n",
              "      <td>0.57</td>\n",
              "      <td>0.41</td>\n",
              "    </tr>\n",
              "  </tbody>\n",
              "</table>\n",
              "</div>"
            ],
            "text/plain": [
              "is_explicit   False True \n",
              "continent                \n",
              "Africa         0.37  0.42\n",
              "Asia           0.59  0.54\n",
              "Australia      0.68  0.66\n",
              "Europe         0.42  0.46\n",
              "Global         0.59  0.51\n",
              "North America  0.57  0.43\n",
              "South America  0.57  0.41"
            ]
          },
          "execution_count": 26,
          "metadata": {},
          "output_type": "execute_result"
        }
      ],
      "source": [
        "# mean mode of explicit and not explicit songs in each continent\n",
        "df_a=df.groupby(['continent','is_explicit'])['mode'].mean().sort_values(ascending=False).unstack()\n",
        "df_a.map(nf2)"
      ]
    },
    {
      "cell_type": "markdown",
      "metadata": {
        "id": "5UkusV_KBUdt"
      },
      "source": [
        "This table provides insights into the mean mode values of explicit and non-explicit songs within each continent. It allows us to see variations in the mode of songs based on their explicit content across different regions.\n",
        "\n",
        "**Conclusion**: Non explicit songs tend to have somewhat higher mean mode values in some continents, while explicit songs exhibit different patterns in mode values.\n",
        "___"
      ]
    },
    {
      "cell_type": "markdown",
      "metadata": {
        "id": "H9eNNr0JBUdt"
      },
      "source": [
        "**Task** As part of the exploratory data analysis (EDA), we want to analyze the mean speechiness of explicit and non-explicit songs in each continent.\n",
        "\n",
        "**Question** How does the mean speechiness differ between explicit and non-explicit songs in different continents?"
      ]
    },
    {
      "cell_type": "code",
      "execution_count": 27,
      "metadata": {
        "id": "i7rLHjcZBUdu"
      },
      "outputs": [
        {
          "data": {
            "text/html": [
              "<div>\n",
              "<style scoped>\n",
              "    .dataframe tbody tr th:only-of-type {\n",
              "        vertical-align: middle;\n",
              "    }\n",
              "\n",
              "    .dataframe tbody tr th {\n",
              "        vertical-align: top;\n",
              "    }\n",
              "\n",
              "    .dataframe thead th {\n",
              "        text-align: right;\n",
              "    }\n",
              "</style>\n",
              "<table border=\"1\" class=\"dataframe\">\n",
              "  <thead>\n",
              "    <tr style=\"text-align: right;\">\n",
              "      <th>is_explicit</th>\n",
              "      <th>False</th>\n",
              "      <th>True</th>\n",
              "    </tr>\n",
              "    <tr>\n",
              "      <th>continent</th>\n",
              "      <th></th>\n",
              "      <th></th>\n",
              "    </tr>\n",
              "  </thead>\n",
              "  <tbody>\n",
              "    <tr>\n",
              "      <th>Africa</th>\n",
              "      <td>0.10</td>\n",
              "      <td>0.20</td>\n",
              "    </tr>\n",
              "    <tr>\n",
              "      <th>Asia</th>\n",
              "      <td>0.07</td>\n",
              "      <td>0.13</td>\n",
              "    </tr>\n",
              "    <tr>\n",
              "      <th>Australia</th>\n",
              "      <td>0.06</td>\n",
              "      <td>0.14</td>\n",
              "    </tr>\n",
              "    <tr>\n",
              "      <th>Europe</th>\n",
              "      <td>0.09</td>\n",
              "      <td>0.16</td>\n",
              "    </tr>\n",
              "    <tr>\n",
              "      <th>Global</th>\n",
              "      <td>0.07</td>\n",
              "      <td>0.13</td>\n",
              "    </tr>\n",
              "    <tr>\n",
              "      <th>North America</th>\n",
              "      <td>0.09</td>\n",
              "      <td>0.15</td>\n",
              "    </tr>\n",
              "    <tr>\n",
              "      <th>South America</th>\n",
              "      <td>0.11</td>\n",
              "      <td>0.14</td>\n",
              "    </tr>\n",
              "  </tbody>\n",
              "</table>\n",
              "</div>"
            ],
            "text/plain": [
              "is_explicit   False True \n",
              "continent                \n",
              "Africa         0.10  0.20\n",
              "Asia           0.07  0.13\n",
              "Australia      0.06  0.14\n",
              "Europe         0.09  0.16\n",
              "Global         0.07  0.13\n",
              "North America  0.09  0.15\n",
              "South America  0.11  0.14"
            ]
          },
          "execution_count": 27,
          "metadata": {},
          "output_type": "execute_result"
        }
      ],
      "source": [
        "# mean speechiness of explicit and not explicit songs in each continent\n",
        "df_a=df.groupby(['continent','is_explicit'])['speechiness'].mean().sort_values(ascending=False).unstack()\n",
        "df_a.map(nf2)"
      ]
    },
    {
      "cell_type": "markdown",
      "metadata": {
        "id": "6ShKDXorBUdu"
      },
      "source": [
        "This table provides insights into the mean speechiness of explicit and non-explicit songs within each continent. It allows us to see variations in the speechiness of songs based on their explicit content across different regions.\n",
        "\n",
        "**Conclusion**: Explicit songs tend to have higher mean speechiness values in all continents compared to non-explicit songs.\n",
        "___"
      ]
    },
    {
      "cell_type": "markdown",
      "metadata": {
        "id": "ISDzjx-2BUdu"
      },
      "source": [
        "**Task** As part of the exploratory data analysis (EDA), we want to examine the mean acousticness of explicit and non-explicit songs in each continent.\n",
        "\n",
        "**Question** How does the mean acousticness differ between explicit and non-explicit songs in different continents?"
      ]
    },
    {
      "cell_type": "code",
      "execution_count": 28,
      "metadata": {
        "id": "8YGXteaxBUdu"
      },
      "outputs": [
        {
          "data": {
            "text/html": [
              "<div>\n",
              "<style scoped>\n",
              "    .dataframe tbody tr th:only-of-type {\n",
              "        vertical-align: middle;\n",
              "    }\n",
              "\n",
              "    .dataframe tbody tr th {\n",
              "        vertical-align: top;\n",
              "    }\n",
              "\n",
              "    .dataframe thead th {\n",
              "        text-align: right;\n",
              "    }\n",
              "</style>\n",
              "<table border=\"1\" class=\"dataframe\">\n",
              "  <thead>\n",
              "    <tr style=\"text-align: right;\">\n",
              "      <th>is_explicit</th>\n",
              "      <th>False</th>\n",
              "      <th>True</th>\n",
              "    </tr>\n",
              "    <tr>\n",
              "      <th>continent</th>\n",
              "      <th></th>\n",
              "      <th></th>\n",
              "    </tr>\n",
              "  </thead>\n",
              "  <tbody>\n",
              "    <tr>\n",
              "      <th>Africa</th>\n",
              "      <td>0.30</td>\n",
              "      <td>0.28</td>\n",
              "    </tr>\n",
              "    <tr>\n",
              "      <th>Asia</th>\n",
              "      <td>0.36</td>\n",
              "      <td>0.24</td>\n",
              "    </tr>\n",
              "    <tr>\n",
              "      <th>Australia</th>\n",
              "      <td>0.29</td>\n",
              "      <td>0.16</td>\n",
              "    </tr>\n",
              "    <tr>\n",
              "      <th>Europe</th>\n",
              "      <td>0.31</td>\n",
              "      <td>0.22</td>\n",
              "    </tr>\n",
              "    <tr>\n",
              "      <th>Global</th>\n",
              "      <td>0.35</td>\n",
              "      <td>0.22</td>\n",
              "    </tr>\n",
              "    <tr>\n",
              "      <th>North America</th>\n",
              "      <td>0.32</td>\n",
              "      <td>0.25</td>\n",
              "    </tr>\n",
              "    <tr>\n",
              "      <th>South America</th>\n",
              "      <td>0.29</td>\n",
              "      <td>0.26</td>\n",
              "    </tr>\n",
              "  </tbody>\n",
              "</table>\n",
              "</div>"
            ],
            "text/plain": [
              "is_explicit   False True \n",
              "continent                \n",
              "Africa         0.30  0.28\n",
              "Asia           0.36  0.24\n",
              "Australia      0.29  0.16\n",
              "Europe         0.31  0.22\n",
              "Global         0.35  0.22\n",
              "North America  0.32  0.25\n",
              "South America  0.29  0.26"
            ]
          },
          "execution_count": 28,
          "metadata": {},
          "output_type": "execute_result"
        }
      ],
      "source": [
        "# mean acousticness of explicit and not explicit songs in each continent\n",
        "df_a=df.groupby(['continent','is_explicit'])['acousticness'].mean().sort_values(ascending=False).unstack()\n",
        "df_a.map(nf2)"
      ]
    },
    {
      "cell_type": "markdown",
      "metadata": {
        "id": "QTo8aA69BUdu"
      },
      "source": [
        "This table provides insights into the mean acousticness of explicit and non-explicit songs within each continent. It allows us to see variations in the acoustic characteristics of songs based on their explicit content across different regions.\n",
        "\n",
        "**Conclusion**: Explicit songs tend to have low mean acousticness values in all continents, and this may reflect regional preferences in music.\n",
        "___"
      ]
    },
    {
      "cell_type": "markdown",
      "metadata": {
        "id": "Bvjeid94BUdv"
      },
      "source": [
        "**Task** As part of the exploratory data analysis (EDA), we want to analyze the mean instrumentalness of explicit and non-explicit songs in each continent.\n",
        "\n",
        "**Question** How does the mean instrumentalness differ between explicit and non-explicit songs in different continents?"
      ]
    },
    {
      "cell_type": "code",
      "execution_count": 29,
      "metadata": {
        "id": "Tpp1IZX5BUdv"
      },
      "outputs": [
        {
          "data": {
            "text/html": [
              "<div>\n",
              "<style scoped>\n",
              "    .dataframe tbody tr th:only-of-type {\n",
              "        vertical-align: middle;\n",
              "    }\n",
              "\n",
              "    .dataframe tbody tr th {\n",
              "        vertical-align: top;\n",
              "    }\n",
              "\n",
              "    .dataframe thead th {\n",
              "        text-align: right;\n",
              "    }\n",
              "</style>\n",
              "<table border=\"1\" class=\"dataframe\">\n",
              "  <thead>\n",
              "    <tr style=\"text-align: right;\">\n",
              "      <th>is_explicit</th>\n",
              "      <th>False</th>\n",
              "      <th>True</th>\n",
              "    </tr>\n",
              "    <tr>\n",
              "      <th>continent</th>\n",
              "      <th></th>\n",
              "      <th></th>\n",
              "    </tr>\n",
              "  </thead>\n",
              "  <tbody>\n",
              "    <tr>\n",
              "      <th>Africa</th>\n",
              "      <td>0.041803</td>\n",
              "      <td>0.003140</td>\n",
              "    </tr>\n",
              "    <tr>\n",
              "      <th>Asia</th>\n",
              "      <td>0.017279</td>\n",
              "      <td>0.030559</td>\n",
              "    </tr>\n",
              "    <tr>\n",
              "      <th>Australia</th>\n",
              "      <td>0.011218</td>\n",
              "      <td>0.000073</td>\n",
              "    </tr>\n",
              "    <tr>\n",
              "      <th>Europe</th>\n",
              "      <td>0.023213</td>\n",
              "      <td>0.021329</td>\n",
              "    </tr>\n",
              "    <tr>\n",
              "      <th>Global</th>\n",
              "      <td>0.013804</td>\n",
              "      <td>0.011069</td>\n",
              "    </tr>\n",
              "    <tr>\n",
              "      <th>North America</th>\n",
              "      <td>0.008152</td>\n",
              "      <td>0.016820</td>\n",
              "    </tr>\n",
              "    <tr>\n",
              "      <th>South America</th>\n",
              "      <td>0.005034</td>\n",
              "      <td>0.015079</td>\n",
              "    </tr>\n",
              "  </tbody>\n",
              "</table>\n",
              "</div>"
            ],
            "text/plain": [
              "is_explicit       False     True \n",
              "continent                        \n",
              "Africa         0.041803  0.003140\n",
              "Asia           0.017279  0.030559\n",
              "Australia      0.011218  0.000073\n",
              "Europe         0.023213  0.021329\n",
              "Global         0.013804  0.011069\n",
              "North America  0.008152  0.016820\n",
              "South America  0.005034  0.015079"
            ]
          },
          "execution_count": 29,
          "metadata": {},
          "output_type": "execute_result"
        }
      ],
      "source": [
        "# mean instrumentalness of explicit and not explicit songs in each continent\n",
        "df_a=df.groupby(['continent','is_explicit'])['instrumentalness'].mean().sort_values(ascending=False).unstack()\n",
        "df_a"
      ]
    },
    {
      "cell_type": "markdown",
      "metadata": {
        "id": "MWQgWMPUBUdv"
      },
      "source": [
        "This table provides insights into the mean instrumentalness of explicit and non-explicit songs within each continent. It allows us to see variations in the instrumental characteristics of songs based on their explicit content across different regions.\n",
        "\n",
        "**Conclusion**: Explicit songs tend to have different mean instrumentalness values in different continents, reflecting variations in musical styles and production techniques."
      ]
    },
    {
      "cell_type": "markdown",
      "metadata": {
        "id": "_w9T5emnBUdv"
      },
      "source": [
        "**Task** As part of the exploratory data analysis (EDA), we want to explore the mean liveness of explicit and non-explicit songs in each continent.\n",
        "\n",
        "**Question** How does the mean liveness differ between explicit and non-explicit songs in different continents?"
      ]
    },
    {
      "cell_type": "code",
      "execution_count": 30,
      "metadata": {
        "id": "u1uX95bLBUdv"
      },
      "outputs": [
        {
          "data": {
            "text/html": [
              "<div>\n",
              "<style scoped>\n",
              "    .dataframe tbody tr th:only-of-type {\n",
              "        vertical-align: middle;\n",
              "    }\n",
              "\n",
              "    .dataframe tbody tr th {\n",
              "        vertical-align: top;\n",
              "    }\n",
              "\n",
              "    .dataframe thead th {\n",
              "        text-align: right;\n",
              "    }\n",
              "</style>\n",
              "<table border=\"1\" class=\"dataframe\">\n",
              "  <thead>\n",
              "    <tr style=\"text-align: right;\">\n",
              "      <th>is_explicit</th>\n",
              "      <th>False</th>\n",
              "      <th>True</th>\n",
              "    </tr>\n",
              "    <tr>\n",
              "      <th>continent</th>\n",
              "      <th></th>\n",
              "      <th></th>\n",
              "    </tr>\n",
              "  </thead>\n",
              "  <tbody>\n",
              "    <tr>\n",
              "      <th>Africa</th>\n",
              "      <td>0.15</td>\n",
              "      <td>0.16</td>\n",
              "    </tr>\n",
              "    <tr>\n",
              "      <th>Asia</th>\n",
              "      <td>0.17</td>\n",
              "      <td>0.15</td>\n",
              "    </tr>\n",
              "    <tr>\n",
              "      <th>Australia</th>\n",
              "      <td>0.15</td>\n",
              "      <td>0.21</td>\n",
              "    </tr>\n",
              "    <tr>\n",
              "      <th>Europe</th>\n",
              "      <td>0.17</td>\n",
              "      <td>0.17</td>\n",
              "    </tr>\n",
              "    <tr>\n",
              "      <th>Global</th>\n",
              "      <td>0.16</td>\n",
              "      <td>0.18</td>\n",
              "    </tr>\n",
              "    <tr>\n",
              "      <th>North America</th>\n",
              "      <td>0.18</td>\n",
              "      <td>0.17</td>\n",
              "    </tr>\n",
              "    <tr>\n",
              "      <th>South America</th>\n",
              "      <td>0.23</td>\n",
              "      <td>0.16</td>\n",
              "    </tr>\n",
              "  </tbody>\n",
              "</table>\n",
              "</div>"
            ],
            "text/plain": [
              "is_explicit   False True \n",
              "continent                \n",
              "Africa         0.15  0.16\n",
              "Asia           0.17  0.15\n",
              "Australia      0.15  0.21\n",
              "Europe         0.17  0.17\n",
              "Global         0.16  0.18\n",
              "North America  0.18  0.17\n",
              "South America  0.23  0.16"
            ]
          },
          "execution_count": 30,
          "metadata": {},
          "output_type": "execute_result"
        }
      ],
      "source": [
        "# mean liveness of explicit and not explicit songs in each continent\n",
        "df_a=df.groupby(['continent','is_explicit'])['liveness'].mean().sort_values(ascending=False).unstack()\n",
        "df_a.map(nf2)"
      ]
    },
    {
      "cell_type": "markdown",
      "metadata": {
        "id": "w6oDSaXWBUdv"
      },
      "source": [
        "This table provides insights into the mean liveness of explicit and non-explicit songs within each continent. It allows us to see variations in the liveness of songs based on their explicit content across different regions.\n",
        "\n",
        "**Conclusion**: Explicit songs tend to have different mean liveness values in different continents, reflecting variations in the live or studio nature of the music in these regions.\n",
        "___"
      ]
    },
    {
      "cell_type": "markdown",
      "metadata": {
        "id": "Yie89Hs9BUdv"
      },
      "source": [
        "**Task** As part of the exploratory data analysis (EDA), we want to analyze the mean valence of explicit and non-explicit songs in each continent.\n",
        "\n",
        "**Question** How does the mean valence differ between explicit and non-explicit songs in different continents?"
      ]
    },
    {
      "cell_type": "code",
      "execution_count": 31,
      "metadata": {
        "id": "EZM6U3CzBUdv"
      },
      "outputs": [
        {
          "data": {
            "text/html": [
              "<div>\n",
              "<style scoped>\n",
              "    .dataframe tbody tr th:only-of-type {\n",
              "        vertical-align: middle;\n",
              "    }\n",
              "\n",
              "    .dataframe tbody tr th {\n",
              "        vertical-align: top;\n",
              "    }\n",
              "\n",
              "    .dataframe thead th {\n",
              "        text-align: right;\n",
              "    }\n",
              "</style>\n",
              "<table border=\"1\" class=\"dataframe\">\n",
              "  <thead>\n",
              "    <tr style=\"text-align: right;\">\n",
              "      <th>is_explicit</th>\n",
              "      <th>False</th>\n",
              "      <th>True</th>\n",
              "    </tr>\n",
              "    <tr>\n",
              "      <th>continent</th>\n",
              "      <th></th>\n",
              "      <th></th>\n",
              "    </tr>\n",
              "  </thead>\n",
              "  <tbody>\n",
              "    <tr>\n",
              "      <th>Africa</th>\n",
              "      <td>0.59</td>\n",
              "      <td>0.55</td>\n",
              "    </tr>\n",
              "    <tr>\n",
              "      <th>Asia</th>\n",
              "      <td>0.48</td>\n",
              "      <td>0.58</td>\n",
              "    </tr>\n",
              "    <tr>\n",
              "      <th>Australia</th>\n",
              "      <td>0.55</td>\n",
              "      <td>0.48</td>\n",
              "    </tr>\n",
              "    <tr>\n",
              "      <th>Europe</th>\n",
              "      <td>0.53</td>\n",
              "      <td>0.51</td>\n",
              "    </tr>\n",
              "    <tr>\n",
              "      <th>Global</th>\n",
              "      <td>0.49</td>\n",
              "      <td>0.50</td>\n",
              "    </tr>\n",
              "    <tr>\n",
              "      <th>North America</th>\n",
              "      <td>0.59</td>\n",
              "      <td>0.50</td>\n",
              "    </tr>\n",
              "    <tr>\n",
              "      <th>South America</th>\n",
              "      <td>0.65</td>\n",
              "      <td>0.55</td>\n",
              "    </tr>\n",
              "  </tbody>\n",
              "</table>\n",
              "</div>"
            ],
            "text/plain": [
              "is_explicit   False True \n",
              "continent                \n",
              "Africa         0.59  0.55\n",
              "Asia           0.48  0.58\n",
              "Australia      0.55  0.48\n",
              "Europe         0.53  0.51\n",
              "Global         0.49  0.50\n",
              "North America  0.59  0.50\n",
              "South America  0.65  0.55"
            ]
          },
          "execution_count": 31,
          "metadata": {},
          "output_type": "execute_result"
        }
      ],
      "source": [
        "# mean valence of explicit and not explicit songs in each continent\n",
        "df_a=df.groupby(['continent','is_explicit'])['valence'].mean().sort_values(ascending=False).unstack()\n",
        "df_a.map(nf2)"
      ]
    },
    {
      "cell_type": "markdown",
      "metadata": {
        "id": "UdrRNq89BUdw"
      },
      "source": [
        "This table provides insights into the mean valence of explicit and non-explicit songs within each continent. It allows us to see variations in the emotional tone or positivity of songs based on their explicit content across different regions.\n",
        "\n",
        "**Conclusion**: Different continents have different mean valence preference for explicit and non-explicit songs.\n",
        "___"
      ]
    },
    {
      "cell_type": "markdown",
      "metadata": {
        "id": "9yoWe1DfBUdw"
      },
      "source": [
        "**Task** As part of the exploratory data analysis (EDA), we want to explore the mean tempo of explicit and non-explicit songs in each continent.\n",
        "\n",
        "**Question** How does the mean tempo differ between explicit and non-explicit songs in different continents?"
      ]
    },
    {
      "cell_type": "code",
      "execution_count": 32,
      "metadata": {
        "id": "bWqdlbsZBUdw"
      },
      "outputs": [
        {
          "data": {
            "text/html": [
              "<div>\n",
              "<style scoped>\n",
              "    .dataframe tbody tr th:only-of-type {\n",
              "        vertical-align: middle;\n",
              "    }\n",
              "\n",
              "    .dataframe tbody tr th {\n",
              "        vertical-align: top;\n",
              "    }\n",
              "\n",
              "    .dataframe thead th {\n",
              "        text-align: right;\n",
              "    }\n",
              "</style>\n",
              "<table border=\"1\" class=\"dataframe\">\n",
              "  <thead>\n",
              "    <tr style=\"text-align: right;\">\n",
              "      <th>is_explicit</th>\n",
              "      <th>False</th>\n",
              "      <th>True</th>\n",
              "    </tr>\n",
              "    <tr>\n",
              "      <th>continent</th>\n",
              "      <th></th>\n",
              "      <th></th>\n",
              "    </tr>\n",
              "  </thead>\n",
              "  <tbody>\n",
              "    <tr>\n",
              "      <th>Africa</th>\n",
              "      <td>118.18</td>\n",
              "      <td>116.66</td>\n",
              "    </tr>\n",
              "    <tr>\n",
              "      <th>Asia</th>\n",
              "      <td>120.46</td>\n",
              "      <td>124.35</td>\n",
              "    </tr>\n",
              "    <tr>\n",
              "      <th>Australia</th>\n",
              "      <td>118.63</td>\n",
              "      <td>132.85</td>\n",
              "    </tr>\n",
              "    <tr>\n",
              "      <th>Europe</th>\n",
              "      <td>124.49</td>\n",
              "      <td>122.48</td>\n",
              "    </tr>\n",
              "    <tr>\n",
              "      <th>Global</th>\n",
              "      <td>114.22</td>\n",
              "      <td>124.99</td>\n",
              "    </tr>\n",
              "    <tr>\n",
              "      <th>North America</th>\n",
              "      <td>125.90</td>\n",
              "      <td>122.14</td>\n",
              "    </tr>\n",
              "    <tr>\n",
              "      <th>South America</th>\n",
              "      <td>122.87</td>\n",
              "      <td>117.22</td>\n",
              "    </tr>\n",
              "  </tbody>\n",
              "</table>\n",
              "</div>"
            ],
            "text/plain": [
              "is_explicit     False   True \n",
              "continent                    \n",
              "Africa         118.18  116.66\n",
              "Asia           120.46  124.35\n",
              "Australia      118.63  132.85\n",
              "Europe         124.49  122.48\n",
              "Global         114.22  124.99\n",
              "North America  125.90  122.14\n",
              "South America  122.87  117.22"
            ]
          },
          "execution_count": 32,
          "metadata": {},
          "output_type": "execute_result"
        }
      ],
      "source": [
        "# mean tempo of explicit and not explicit songs in each continent\n",
        "df_a=df.groupby(['continent','is_explicit'])['tempo'].mean().sort_values(ascending=False).unstack()\n",
        "df_a.map(nf2)"
      ]
    },
    {
      "cell_type": "markdown",
      "metadata": {
        "id": "7-CWaqo4BUdw"
      },
      "source": [
        "This table provides insights into the mean tempo of explicit and non-explicit songs within each continent. It allows us to see variations in the tempo or pace of songs based on their explicit content across different regions.\n",
        "\n",
        "**Conclusion**: Different continents have different mean tempo preference for explicit and non-explicit songs.\n",
        "___"
      ]
    },
    {
      "cell_type": "code",
      "execution_count": 33,
      "metadata": {
        "id": "YoqEid2EBUdw"
      },
      "outputs": [],
      "source": [
        "#redefining the dataframe to explude categorical variables\n",
        "df_a = df[['popularity', 'is_explicit', 'duration_ms', 'danceability', 'energy', 'key', 'loudness', 'mode', 'speechiness', 'acousticness', 'instrumentalness', 'liveness', 'valence', 'tempo']]"
      ]
    },
    {
      "cell_type": "code",
      "execution_count": 34,
      "metadata": {
        "id": "Lry8uiqeBUdw"
      },
      "outputs": [
        {
          "data": {
            "text/html": [
              "<div>\n",
              "<style scoped>\n",
              "    .dataframe tbody tr th:only-of-type {\n",
              "        vertical-align: middle;\n",
              "    }\n",
              "\n",
              "    .dataframe tbody tr th {\n",
              "        vertical-align: top;\n",
              "    }\n",
              "\n",
              "    .dataframe thead th {\n",
              "        text-align: right;\n",
              "    }\n",
              "</style>\n",
              "<table border=\"1\" class=\"dataframe\">\n",
              "  <thead>\n",
              "    <tr style=\"text-align: right;\">\n",
              "      <th></th>\n",
              "      <th>popularity</th>\n",
              "      <th>is_explicit</th>\n",
              "      <th>duration_ms</th>\n",
              "      <th>danceability</th>\n",
              "      <th>energy</th>\n",
              "      <th>key</th>\n",
              "      <th>loudness</th>\n",
              "      <th>mode</th>\n",
              "      <th>speechiness</th>\n",
              "      <th>acousticness</th>\n",
              "      <th>instrumentalness</th>\n",
              "      <th>liveness</th>\n",
              "      <th>valence</th>\n",
              "      <th>tempo</th>\n",
              "    </tr>\n",
              "  </thead>\n",
              "  <tbody>\n",
              "    <tr>\n",
              "      <th>popularity</th>\n",
              "      <td>1.000000</td>\n",
              "      <td>0.185878</td>\n",
              "      <td>0.043655</td>\n",
              "      <td>-0.026115</td>\n",
              "      <td>0.009259</td>\n",
              "      <td>-0.019580</td>\n",
              "      <td>0.145701</td>\n",
              "      <td>0.072561</td>\n",
              "      <td>-0.071945</td>\n",
              "      <td>0.015835</td>\n",
              "      <td>-0.036252</td>\n",
              "      <td>-0.026931</td>\n",
              "      <td>-0.026105</td>\n",
              "      <td>0.019255</td>\n",
              "    </tr>\n",
              "    <tr>\n",
              "      <th>is_explicit</th>\n",
              "      <td>0.185878</td>\n",
              "      <td>1.000000</td>\n",
              "      <td>0.023300</td>\n",
              "      <td>0.335467</td>\n",
              "      <td>0.129244</td>\n",
              "      <td>-0.043012</td>\n",
              "      <td>0.147762</td>\n",
              "      <td>-0.052997</td>\n",
              "      <td>0.316415</td>\n",
              "      <td>-0.169980</td>\n",
              "      <td>-0.001620</td>\n",
              "      <td>-0.024652</td>\n",
              "      <td>-0.030366</td>\n",
              "      <td>-0.013671</td>\n",
              "    </tr>\n",
              "    <tr>\n",
              "      <th>duration_ms</th>\n",
              "      <td>0.043655</td>\n",
              "      <td>0.023300</td>\n",
              "      <td>1.000000</td>\n",
              "      <td>-0.209347</td>\n",
              "      <td>-0.077730</td>\n",
              "      <td>-0.064709</td>\n",
              "      <td>-0.047130</td>\n",
              "      <td>0.074851</td>\n",
              "      <td>0.003360</td>\n",
              "      <td>0.048636</td>\n",
              "      <td>-0.007679</td>\n",
              "      <td>-0.034391</td>\n",
              "      <td>-0.174726</td>\n",
              "      <td>-0.027645</td>\n",
              "    </tr>\n",
              "    <tr>\n",
              "      <th>danceability</th>\n",
              "      <td>-0.026115</td>\n",
              "      <td>0.335467</td>\n",
              "      <td>-0.209347</td>\n",
              "      <td>1.000000</td>\n",
              "      <td>0.230965</td>\n",
              "      <td>-0.008167</td>\n",
              "      <td>0.227969</td>\n",
              "      <td>-0.158230</td>\n",
              "      <td>0.226768</td>\n",
              "      <td>-0.288819</td>\n",
              "      <td>-0.066613</td>\n",
              "      <td>-0.108703</td>\n",
              "      <td>0.360385</td>\n",
              "      <td>-0.151848</td>\n",
              "    </tr>\n",
              "    <tr>\n",
              "      <th>energy</th>\n",
              "      <td>0.009259</td>\n",
              "      <td>0.129244</td>\n",
              "      <td>-0.077730</td>\n",
              "      <td>0.230965</td>\n",
              "      <td>1.000000</td>\n",
              "      <td>0.090682</td>\n",
              "      <td>0.761142</td>\n",
              "      <td>-0.050163</td>\n",
              "      <td>0.000441</td>\n",
              "      <td>-0.580744</td>\n",
              "      <td>0.000761</td>\n",
              "      <td>0.095683</td>\n",
              "      <td>0.350114</td>\n",
              "      <td>0.104546</td>\n",
              "    </tr>\n",
              "    <tr>\n",
              "      <th>key</th>\n",
              "      <td>-0.019580</td>\n",
              "      <td>-0.043012</td>\n",
              "      <td>-0.064709</td>\n",
              "      <td>-0.008167</td>\n",
              "      <td>0.090682</td>\n",
              "      <td>1.000000</td>\n",
              "      <td>0.038241</td>\n",
              "      <td>-0.059181</td>\n",
              "      <td>-0.035441</td>\n",
              "      <td>0.000254</td>\n",
              "      <td>0.020058</td>\n",
              "      <td>0.008096</td>\n",
              "      <td>0.104480</td>\n",
              "      <td>0.124851</td>\n",
              "    </tr>\n",
              "    <tr>\n",
              "      <th>loudness</th>\n",
              "      <td>0.145701</td>\n",
              "      <td>0.147762</td>\n",
              "      <td>-0.047130</td>\n",
              "      <td>0.227969</td>\n",
              "      <td>0.761142</td>\n",
              "      <td>0.038241</td>\n",
              "      <td>1.000000</td>\n",
              "      <td>-0.027344</td>\n",
              "      <td>-0.070152</td>\n",
              "      <td>-0.459201</td>\n",
              "      <td>-0.118808</td>\n",
              "      <td>0.073572</td>\n",
              "      <td>0.306618</td>\n",
              "      <td>0.054367</td>\n",
              "    </tr>\n",
              "    <tr>\n",
              "      <th>mode</th>\n",
              "      <td>0.072561</td>\n",
              "      <td>-0.052997</td>\n",
              "      <td>0.074851</td>\n",
              "      <td>-0.158230</td>\n",
              "      <td>-0.050163</td>\n",
              "      <td>-0.059181</td>\n",
              "      <td>-0.027344</td>\n",
              "      <td>1.000000</td>\n",
              "      <td>-0.037006</td>\n",
              "      <td>-0.006552</td>\n",
              "      <td>-0.010858</td>\n",
              "      <td>-0.028965</td>\n",
              "      <td>-0.060780</td>\n",
              "      <td>-0.048687</td>\n",
              "    </tr>\n",
              "    <tr>\n",
              "      <th>speechiness</th>\n",
              "      <td>-0.071945</td>\n",
              "      <td>0.316415</td>\n",
              "      <td>0.003360</td>\n",
              "      <td>0.226768</td>\n",
              "      <td>0.000441</td>\n",
              "      <td>-0.035441</td>\n",
              "      <td>-0.070152</td>\n",
              "      <td>-0.037006</td>\n",
              "      <td>1.000000</td>\n",
              "      <td>-0.041515</td>\n",
              "      <td>-0.027571</td>\n",
              "      <td>-0.011993</td>\n",
              "      <td>0.014671</td>\n",
              "      <td>0.090696</td>\n",
              "    </tr>\n",
              "    <tr>\n",
              "      <th>acousticness</th>\n",
              "      <td>0.015835</td>\n",
              "      <td>-0.169980</td>\n",
              "      <td>0.048636</td>\n",
              "      <td>-0.288819</td>\n",
              "      <td>-0.580744</td>\n",
              "      <td>0.000254</td>\n",
              "      <td>-0.459201</td>\n",
              "      <td>-0.006552</td>\n",
              "      <td>-0.041515</td>\n",
              "      <td>1.000000</td>\n",
              "      <td>0.006251</td>\n",
              "      <td>-0.061234</td>\n",
              "      <td>-0.182511</td>\n",
              "      <td>-0.021519</td>\n",
              "    </tr>\n",
              "    <tr>\n",
              "      <th>instrumentalness</th>\n",
              "      <td>-0.036252</td>\n",
              "      <td>-0.001620</td>\n",
              "      <td>-0.007679</td>\n",
              "      <td>-0.066613</td>\n",
              "      <td>0.000761</td>\n",
              "      <td>0.020058</td>\n",
              "      <td>-0.118808</td>\n",
              "      <td>-0.010858</td>\n",
              "      <td>-0.027571</td>\n",
              "      <td>0.006251</td>\n",
              "      <td>1.000000</td>\n",
              "      <td>-0.019820</td>\n",
              "      <td>-0.126304</td>\n",
              "      <td>0.027751</td>\n",
              "    </tr>\n",
              "    <tr>\n",
              "      <th>liveness</th>\n",
              "      <td>-0.026931</td>\n",
              "      <td>-0.024652</td>\n",
              "      <td>-0.034391</td>\n",
              "      <td>-0.108703</td>\n",
              "      <td>0.095683</td>\n",
              "      <td>0.008096</td>\n",
              "      <td>0.073572</td>\n",
              "      <td>-0.028965</td>\n",
              "      <td>-0.011993</td>\n",
              "      <td>-0.061234</td>\n",
              "      <td>-0.019820</td>\n",
              "      <td>1.000000</td>\n",
              "      <td>-0.012538</td>\n",
              "      <td>0.075557</td>\n",
              "    </tr>\n",
              "    <tr>\n",
              "      <th>valence</th>\n",
              "      <td>-0.026105</td>\n",
              "      <td>-0.030366</td>\n",
              "      <td>-0.174726</td>\n",
              "      <td>0.360385</td>\n",
              "      <td>0.350114</td>\n",
              "      <td>0.104480</td>\n",
              "      <td>0.306618</td>\n",
              "      <td>-0.060780</td>\n",
              "      <td>0.014671</td>\n",
              "      <td>-0.182511</td>\n",
              "      <td>-0.126304</td>\n",
              "      <td>-0.012538</td>\n",
              "      <td>1.000000</td>\n",
              "      <td>0.027523</td>\n",
              "    </tr>\n",
              "    <tr>\n",
              "      <th>tempo</th>\n",
              "      <td>0.019255</td>\n",
              "      <td>-0.013671</td>\n",
              "      <td>-0.027645</td>\n",
              "      <td>-0.151848</td>\n",
              "      <td>0.104546</td>\n",
              "      <td>0.124851</td>\n",
              "      <td>0.054367</td>\n",
              "      <td>-0.048687</td>\n",
              "      <td>0.090696</td>\n",
              "      <td>-0.021519</td>\n",
              "      <td>0.027751</td>\n",
              "      <td>0.075557</td>\n",
              "      <td>0.027523</td>\n",
              "      <td>1.000000</td>\n",
              "    </tr>\n",
              "  </tbody>\n",
              "</table>\n",
              "</div>"
            ],
            "text/plain": [
              "                  popularity  is_explicit  duration_ms  danceability  \\\n",
              "popularity          1.000000     0.185878     0.043655     -0.026115   \n",
              "is_explicit         0.185878     1.000000     0.023300      0.335467   \n",
              "duration_ms         0.043655     0.023300     1.000000     -0.209347   \n",
              "danceability       -0.026115     0.335467    -0.209347      1.000000   \n",
              "energy              0.009259     0.129244    -0.077730      0.230965   \n",
              "key                -0.019580    -0.043012    -0.064709     -0.008167   \n",
              "loudness            0.145701     0.147762    -0.047130      0.227969   \n",
              "mode                0.072561    -0.052997     0.074851     -0.158230   \n",
              "speechiness        -0.071945     0.316415     0.003360      0.226768   \n",
              "acousticness        0.015835    -0.169980     0.048636     -0.288819   \n",
              "instrumentalness   -0.036252    -0.001620    -0.007679     -0.066613   \n",
              "liveness           -0.026931    -0.024652    -0.034391     -0.108703   \n",
              "valence            -0.026105    -0.030366    -0.174726      0.360385   \n",
              "tempo               0.019255    -0.013671    -0.027645     -0.151848   \n",
              "\n",
              "                    energy       key  loudness      mode  speechiness  \\\n",
              "popularity        0.009259 -0.019580  0.145701  0.072561    -0.071945   \n",
              "is_explicit       0.129244 -0.043012  0.147762 -0.052997     0.316415   \n",
              "duration_ms      -0.077730 -0.064709 -0.047130  0.074851     0.003360   \n",
              "danceability      0.230965 -0.008167  0.227969 -0.158230     0.226768   \n",
              "energy            1.000000  0.090682  0.761142 -0.050163     0.000441   \n",
              "key               0.090682  1.000000  0.038241 -0.059181    -0.035441   \n",
              "loudness          0.761142  0.038241  1.000000 -0.027344    -0.070152   \n",
              "mode             -0.050163 -0.059181 -0.027344  1.000000    -0.037006   \n",
              "speechiness       0.000441 -0.035441 -0.070152 -0.037006     1.000000   \n",
              "acousticness     -0.580744  0.000254 -0.459201 -0.006552    -0.041515   \n",
              "instrumentalness  0.000761  0.020058 -0.118808 -0.010858    -0.027571   \n",
              "liveness          0.095683  0.008096  0.073572 -0.028965    -0.011993   \n",
              "valence           0.350114  0.104480  0.306618 -0.060780     0.014671   \n",
              "tempo             0.104546  0.124851  0.054367 -0.048687     0.090696   \n",
              "\n",
              "                  acousticness  instrumentalness  liveness   valence     tempo  \n",
              "popularity            0.015835         -0.036252 -0.026931 -0.026105  0.019255  \n",
              "is_explicit          -0.169980         -0.001620 -0.024652 -0.030366 -0.013671  \n",
              "duration_ms           0.048636         -0.007679 -0.034391 -0.174726 -0.027645  \n",
              "danceability         -0.288819         -0.066613 -0.108703  0.360385 -0.151848  \n",
              "energy               -0.580744          0.000761  0.095683  0.350114  0.104546  \n",
              "key                   0.000254          0.020058  0.008096  0.104480  0.124851  \n",
              "loudness             -0.459201         -0.118808  0.073572  0.306618  0.054367  \n",
              "mode                 -0.006552         -0.010858 -0.028965 -0.060780 -0.048687  \n",
              "speechiness          -0.041515         -0.027571 -0.011993  0.014671  0.090696  \n",
              "acousticness          1.000000          0.006251 -0.061234 -0.182511 -0.021519  \n",
              "instrumentalness      0.006251          1.000000 -0.019820 -0.126304  0.027751  \n",
              "liveness             -0.061234         -0.019820  1.000000 -0.012538  0.075557  \n",
              "valence              -0.182511         -0.126304 -0.012538  1.000000  0.027523  \n",
              "tempo                -0.021519          0.027751  0.075557  0.027523  1.000000  "
            ]
          },
          "execution_count": 34,
          "metadata": {},
          "output_type": "execute_result"
        }
      ],
      "source": [
        "# correlation of different musical aspects amoung themselves\n",
        "df_a.corr()"
      ]
    },
    {
      "cell_type": "code",
      "execution_count": 35,
      "metadata": {
        "id": "9LuUltHJBUdx"
      },
      "outputs": [
        {
          "data": {
            "text/plain": [
              "<Axes: >"
            ]
          },
          "execution_count": 35,
          "metadata": {},
          "output_type": "execute_result"
        },
        {
          "data": {
            "image/png": "[encoded data removed]",
            "text/plain": [
              "<Figure size 640x480 with 2 Axes>"
            ]
          },
          "metadata": {},
          "output_type": "display_data"
        }
      ],
      "source": [
        "from numpy.ma.core import size\n",
        "# heat map to check correlation of different musical aspects amoung themselves\n",
        "sns.heatmap(df_a.corr(),annot=True, cmap='coolwarm', fmt=\".1f\")"
      ]
    },
    {
      "cell_type": "markdown",
      "metadata": {
        "id": "Ll91Sa8YBUdx"
      },
      "source": [
        "**Conclusion:**\n",
        "\n",
        "The provided correlation matrix describes the relationships between various attributes of the dataset, with a focus on how they correlate with one another. Each cell in the matrix represents the correlation coefficient between two attributes. Here's an interpretation of the correlations:\n",
        "\n",
        "1. **Popularity**:\n",
        "   - It has a weak positive correlation with `is_explicit` (0.186), indicating that more popular songs are slightly more likely to be explicit.\n",
        "   - There is a very weak positive correlation with `loudness` (0.146), suggesting that more popular songs tend to be slightly louder.\n",
        "   - Popularity has very weak correlations with other attributes.\n",
        "\n",
        "2. **Is_Explicit**:\n",
        "   - It has a moderate positive correlation with attributes like `danceability` (0.335), `energy` (0.129), and `speechiness` (0.316), suggesting that explicit songs may be more energetic and have more speech content.\n",
        "   - It has a moderate negative correlation with `acousticness` (-0.170), indicating that explicit songs tend to have lower acoustic characteristics.\n",
        "\n",
        "3. **Duration_ms**:\n",
        "   - It has a weak negative correlation with attributes like `danceability` (-0.209) and `acousticness` (-0.288), suggesting that shorter songs may be less danceable and have lower acoustic characteristics.\n",
        "   - It has a weak positive correlation with `tempo` (0.048), implying that shorter songs may have a slightly faster tempo.\n",
        "\n",
        "4. **Danceability**:\n",
        "   - It has a moderate positive correlation with `is_explicit` (0.335) and `energy` (0.231), indicating that more danceable songs may also be more explicit and energetic.\n",
        "   - It has a moderate negative correlation with `acousticness` (-0.289), suggesting that less danceable songs tend to have higher acoustic characteristics.\n",
        "\n",
        "5. **Energy**:\n",
        "   - It has a strong positive correlation with `loudness` (0.761), indicating that songs with higher energy are typically louder.\n",
        "   - It has a strong negative correlation with `acousticness` (-0.581), implying that more energetic songs are less acoustic.\n",
        "\n",
        "6. **Key**, **Loudness**, **Mode**, **Speechiness**, **Acousticness**, **Instrumentalness**, **Liveness**, **Valence**, **Tempo**:\n",
        "   - These attributes show various weak correlations with each other and with the other attributes. The relationships are not as strong as those mentioned above.\n",
        "\n",
        "The correlation matrix helps us understand how different attributes relate to each other and can guide feature selection for further analysis or modeling. For example, if you want to predict the popularity of songs, you might consider attributes like `danceability`, `energy`, and `loudness` due to their correlations with popularity."
      ]
    },
    {
      "cell_type": "markdown",
      "metadata": {},
      "source": [
        "# Visualizations"
      ]
    },
    {
      "cell_type": "code",
      "execution_count": 37,
      "metadata": {},
      "outputs": [
        {
          "data": {
            "image/png": "[encoded data removed]",
            "text/plain": [
              "<Figure size 640x480 with 1 Axes>"
            ]
          },
          "metadata": {},
          "output_type": "display_data"
        }
      ],
      "source": [
        "plt.hist(df['popularity'], bins=20)\n",
        "plt.xlabel('Popularity')\n",
        "plt.ylabel('Number of Songs')\n",
        "plt.title('Distribution of Song Popularity')\n",
        "plt.show()\n"
      ]
    },
    {
      "cell_type": "code",
      "execution_count": 38,
      "metadata": {},
      "outputs": [
        {
          "data": {
            "image/png": "[encoded data removed]",
            "text/plain": [
              "<Figure size 640x480 with 1 Axes>"
            ]
          },
          "metadata": {},
          "output_type": "display_data"
        }
      ],
      "source": [
        "import seaborn as sns\n",
        "\n",
        "sns.boxplot(x='time_signature', y='danceability', data=df)\n",
        "plt.xlabel('Time Signature')\n",
        "plt.ylabel('Danceability')\n",
        "plt.title('Comparison of Danceability by Time Signature')\n",
        "plt.show()\n"
      ]
    },
    {
      "cell_type": "code",
      "execution_count": 40,
      "metadata": {},
      "outputs": [
        {
          "data": {
            "image/png": "[encoded data removed]",
            "text/plain": [
              "<Figure size 640x480 with 1 Axes>"
            ]
          },
          "metadata": {},
          "output_type": "display_data"
        }
      ],
      "source": [
        "plt.scatter(df['duration_ms'], df['energy'], alpha=0.5)\n",
        "plt.xlabel('Song Duration (ms)')\n",
        "plt.ylabel('Energy')\n",
        "plt.title('Song Duration vs. Energy')\n",
        "plt.show()\n"
      ]
    },
    {
      "cell_type": "markdown",
      "metadata": {},
      "source": [
        "# Data Insights"
      ]
    },
    {
      "cell_type": "markdown",
      "metadata": {},
      "source": [
        "### Q1. Does the album release date affect the popularity of songs?"
      ]
    },
    {
      "cell_type": "code",
      "execution_count": 43,
      "metadata": {},
      "outputs": [
        {
          "data": {
            "image/png": "[encoded data removed]",
            "text/plain": [
              "<Figure size 1700x600 with 1 Axes>"
            ]
          },
          "metadata": {},
          "output_type": "display_data"
        }
      ],
      "source": [
        "import matplotlib.dates as mdates\n",
        "\n",
        "plt.figure(figsize=(17, 6))\n",
        "df['album_release_date'] = pd.to_datetime(df['album_release_date'])\n",
        "plt.scatter(df['album_release_date'], df['popularity'], alpha=0.5)\n",
        "plt.xlabel('Album Release Date')\n",
        "plt.ylabel('Popularity')\n",
        "plt.title('Relationship between Album Release Date and Song Popularity')\n",
        "plt.gca().xaxis.set_major_formatter(mdates.DateFormatter(\"%Y-%m\"))\n",
        "plt.gca().xaxis.set_major_locator(mdates.YearLocator())\n",
        "plt.xticks(rotation=45)\n",
        "plt.show()"
      ]
    },
    {
      "cell_type": "markdown",
      "metadata": {},
      "source": [
        "### Q2. Which artists have the most songs in the dataset, and how does their popularity compare?"
      ]
    },
    {
      "cell_type": "code",
      "execution_count": 44,
      "metadata": {},
      "outputs": [
        {
          "data": {
            "image/png": "[encoded data removed]",
            "text/plain": [
              "<Figure size 1200x600 with 1 Axes>"
            ]
          },
          "metadata": {},
          "output_type": "display_data"
        }
      ],
      "source": [
        "# Group by artists and calculate the average popularity for each artist\n",
        "artist_popularity = df.groupby('artists')['popularity'].mean().reset_index()\n",
        "\n",
        "# Sort by popularity to find the top artists\n",
        "top_artists = artist_popularity.nlargest(10, 'popularity')\n",
        "\n",
        "plt.figure(figsize=(12, 6))\n",
        "sns.barplot(x='artists', y='popularity', data=top_artists)\n",
        "plt.xlabel('Artist')\n",
        "plt.ylabel('Average Popularity')\n",
        "plt.title('Top 10 Artists by Average Popularity')\n",
        "plt.xticks(rotation=45)\n",
        "plt.show()"
      ]
    },
    {
      "cell_type": "markdown",
      "metadata": {},
      "source": [
        "### Q3. Does the explicit content of songs affect their popularity?"
      ]
    },
    {
      "cell_type": "code",
      "execution_count": 45,
      "metadata": {},
      "outputs": [
        {
          "data": {
            "image/png": "[encoded data removed]",
            "text/plain": [
              "<Figure size 800x600 with 1 Axes>"
            ]
          },
          "metadata": {},
          "output_type": "display_data"
        }
      ],
      "source": [
        "plt.figure(figsize=(8, 6))\n",
        "sns.boxplot(x='is_explicit', y='popularity', data=df)\n",
        "plt.xlabel('Explicit Content')\n",
        "plt.ylabel('Popularity')\n",
        "plt.title('Comparison of Popularity for Explicit and Non-Explicit Songs')\n",
        "plt.xticks([0, 1], ['Non-Explicit', 'Explicit'])\n",
        "plt.show()"
      ]
    },
    {
      "cell_type": "markdown",
      "metadata": {},
      "source": [
        "### Q4. What are the top 10 countries by average popularity "
      ]
    },
    {
      "cell_type": "code",
      "execution_count": 46,
      "metadata": {},
      "outputs": [
        {
          "data": {
            "image/png": "[encoded data removed]",
            "text/plain": [
              "<Figure size 1200x600 with 1 Axes>"
            ]
          },
          "metadata": {},
          "output_type": "display_data"
        }
      ],
      "source": [
        "# Group by artists and calculate the average popularity for each artist\n",
        "artist_popularity = df.groupby('country')['popularity'].mean().reset_index()\n",
        "\n",
        "# Sort by popularity to find the top artists\n",
        "top_artists = artist_popularity.nlargest(10, 'popularity')\n",
        "\n",
        "plt.figure(figsize=(12, 6))\n",
        "sns.barplot(x='country', y='popularity', data=top_artists)\n",
        "plt.xlabel('Country')\n",
        "plt.ylabel('Average Popularity')\n",
        "plt.title('Top 10 Countries by Average Popularity')\n",
        "plt.xticks(rotation=45)\n",
        "plt.show()"
      ]
    },
    {
      "cell_type": "code",
      "execution_count": null,
      "metadata": {},
      "outputs": [],
      "source": []
    }
  ],
  "metadata": {
    "colab": {
      "provenance": []
    },
    "kernelspec": {
      "display_name": "python_eda",
      "language": "python",
      "name": "python3"
    },
    "language_info": {
      "codemirror_mode": {
        "name": "ipython",
        "version": 3
      },
      "file_extension": ".py",
      "mimetype": "text/x-python",
      "name": "python",
      "nbconvert_exporter": "python",
      "pygments_lexer": "ipython3",
      "version": "3.11.5"
    }
  },
  "nbformat": 4,
  "nbformat_minor": 0
}
